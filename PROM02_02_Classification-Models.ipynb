{
 "cells": [
  {
   "cell_type": "markdown",
   "id": "ddcfa3b5",
   "metadata": {},
   "source": [
    "# 1. Setting up the environment"
   ]
  },
  {
   "cell_type": "markdown",
   "id": "ff694108",
   "metadata": {},
   "source": [
    "## 1.1 Checking if the notebook was launched in the correct environment"
   ]
  },
  {
   "cell_type": "code",
   "execution_count": 1,
   "id": "ca63b0e7",
   "metadata": {},
   "outputs": [
    {
     "name": "stdout",
     "output_type": "stream",
     "text": [
      "# conda environments:\n",
      "#\n",
      "base                     C:\\Users\\Sarthak\\anaconda3\n",
      "prom02_env            *  C:\\Users\\Sarthak\\anaconda3\\envs\\prom02_env\n",
      "prot_env                 C:\\Users\\Sarthak\\anaconda3\\envs\\prot_env\n",
      "\n"
     ]
    }
   ],
   "source": [
    "#prints the available list of environments with asterisk (*) next to the current environment\n",
    "#need to relaunch jupyter if launched in incorrect environment\n",
    "!conda env list"
   ]
  },
  {
   "cell_type": "markdown",
   "id": "2b06a48a",
   "metadata": {},
   "source": [
    "## 1.2 Installing the required packages in the environment"
   ]
  },
  {
   "cell_type": "code",
   "execution_count": 2,
   "id": "b93e79b3",
   "metadata": {},
   "outputs": [
    {
     "name": "stdout",
     "output_type": "stream",
     "text": [
      "# packages in environment at C:\\Users\\Sarthak\\anaconda3\\envs\\prom02_env:\n",
      "#\n",
      "# Name                    Version                   Build  Channel\n",
      "_tflow_select             2.3.0                     eigen  \n",
      "absl-py                   0.13.0           py38haa95532_0  \n",
      "aiohttp                   3.7.4            py38h2bbff1b_1  \n",
      "argon2-cffi               20.1.0           py38h2bbff1b_1  \n",
      "astor                     0.8.1            py38haa95532_0  \n",
      "astunparse                1.6.3                      py_0  \n",
      "async-timeout             3.0.1            py38haa95532_0  \n",
      "async_generator           1.10               pyhd3eb1b0_0  \n",
      "attrs                     21.2.0             pyhd3eb1b0_0  \n",
      "backcall                  0.2.0              pyhd3eb1b0_0  \n",
      "blas                      1.0                         mkl  \n",
      "bleach                    4.0.0              pyhd3eb1b0_0  \n",
      "blinker                   1.4              py38haa95532_0  \n",
      "blosc                     1.21.0               h19a0ad4_0  \n",
      "bottleneck                1.3.2            py38h2a96729_1  \n",
      "brotli                    1.0.9                ha925a31_2  \n",
      "brotlipy                  0.7.0           py38h2bbff1b_1003  \n",
      "bzip2                     1.0.8                he774522_0  \n",
      "ca-certificates           2021.5.30            h5b45459_0    conda-forge\n",
      "cachetools                4.2.2              pyhd3eb1b0_0  \n",
      "certifi                   2021.5.30        py38haa244fe_0    conda-forge\n",
      "cffi                      1.14.6           py38h2bbff1b_0  \n",
      "cfitsio                   3.470                he774522_6  \n",
      "chardet                   3.0.4           py38haa95532_1003  \n",
      "charls                    2.2.0                h6c2663c_0  \n",
      "click                     8.0.1              pyhd3eb1b0_0  \n",
      "cloudpickle               1.6.0                      py_0  \n",
      "colorama                  0.4.4              pyhd3eb1b0_0  \n",
      "coverage                  5.5              py38h2bbff1b_2  \n",
      "cryptography              3.4.7            py38h71e12ea_0  \n",
      "cycler                    0.10.0                   py38_0  \n",
      "cython                    0.29.24          py38hd77b12b_0  \n",
      "cytoolz                   0.11.0           py38he774522_0  \n",
      "dask-core                 2021.8.0           pyhd3eb1b0_0  \n",
      "decorator                 5.0.9              pyhd3eb1b0_0  \n",
      "defusedxml                0.7.1              pyhd3eb1b0_0  \n",
      "entrypoints               0.3                      py38_0  \n",
      "fonttools                 4.25.0             pyhd3eb1b0_0  \n",
      "freetype                  2.10.4               hd328e21_0  \n",
      "fsspec                    2021.7.0           pyhd3eb1b0_0  \n",
      "gast                      0.4.0              pyhd3eb1b0_0  \n",
      "giflib                    5.2.1                h62dcd97_0  \n",
      "google-auth               1.33.0             pyhd3eb1b0_0  \n",
      "google-auth-oauthlib      0.4.4              pyhd3eb1b0_0  \n",
      "google-pasta              0.2.0                      py_0  \n",
      "grpcio                    1.36.1           py38hc60d5dd_1  \n",
      "h5py                      2.10.0           py38h5e291fa_0  \n",
      "hdf5                      1.10.4               h7ebc959_0  \n",
      "icc_rt                    2019.0.0             h0cc432a_1  \n",
      "icu                       58.2                 ha925a31_3  \n",
      "idna                      2.10               pyhd3eb1b0_0  \n",
      "imagecodecs               2021.6.8         py38h5da4933_0  \n",
      "imageio                   2.9.0              pyhd3eb1b0_0  \n",
      "importlib-metadata        3.10.0           py38haa95532_0  \n",
      "importlib_metadata        3.10.0               hd3eb1b0_0  \n",
      "intel-openmp              2021.3.0          haa95532_3372  \n",
      "ipykernel                 5.3.4            py38h5ca1d4c_0  \n",
      "ipython                   7.26.0           py38hd4e2768_0  \n",
      "ipython_genutils          0.2.0              pyhd3eb1b0_1  \n",
      "jedi                      0.18.0           py38haa95532_1  \n",
      "jinja2                    3.0.1              pyhd3eb1b0_0  \n",
      "joblib                    1.0.1              pyhd3eb1b0_0  \n",
      "jpeg                      9b                   hb83a4c4_2  \n",
      "jsonschema                3.2.0                      py_2  \n",
      "jupyter_client            6.1.12             pyhd3eb1b0_0  \n",
      "jupyter_core              4.7.1            py38haa95532_0  \n",
      "jupyterlab_pygments       0.1.2                      py_0  \n",
      "keras-applications        1.0.8                      py_1  \n",
      "keras-preprocessing       1.1.2              pyhd3eb1b0_0  \n",
      "kiwisolver                1.3.1            py38hd77b12b_0  \n",
      "lcms2                     2.12                 h83e58a3_0  \n",
      "lerc                      2.2.1                hd77b12b_0  \n",
      "libaec                    1.0.4                h33f27b4_1  \n",
      "libdeflate                1.7                  h2bbff1b_5  \n",
      "libflac                   1.3.3                h0e60522_1    conda-forge\n",
      "libogg                    1.3.4                h8ffe710_1    conda-forge\n",
      "libopencv                 4.0.1                hbb9e17c_0  \n",
      "libopus                   1.3.1                h8ffe710_1    conda-forge\n",
      "libpng                    1.6.37               h2a8f88b_0  \n",
      "libprotobuf               3.17.2               h23ce68f_1  \n",
      "libsndfile                1.0.31               h0e60522_1    conda-forge\n",
      "libtiff                   4.2.0                hd0e1b90_0  \n",
      "libvorbis                 1.3.7                h0e60522_0    conda-forge\n",
      "libzopfli                 1.0.3                ha925a31_0  \n",
      "locket                    0.2.1            py38haa95532_1  \n",
      "lz4-c                     1.9.3                h2bbff1b_1  \n",
      "m2w64-gcc-libgfortran     5.3.0                         6  \n",
      "m2w64-gcc-libs            5.3.0                         7  \n",
      "m2w64-gcc-libs-core       5.3.0                         7  \n",
      "m2w64-gmp                 6.1.0                         2  \n",
      "m2w64-libwinpthread-git   5.0.0.4634.697f757               2  \n",
      "markdown                  3.3.4            py38haa95532_0  \n",
      "markupsafe                2.0.1            py38h2bbff1b_0  \n",
      "matplotlib                3.4.2            py38haa95532_0  \n",
      "matplotlib-base           3.4.2            py38h49ac443_0  \n",
      "matplotlib-inline         0.1.2              pyhd3eb1b0_2  \n",
      "mistune                   0.8.4           py38he774522_1000  \n",
      "mkl                       2021.3.0           haa95532_524  \n",
      "mkl-service               2.4.0            py38h2bbff1b_0  \n",
      "mkl_fft                   1.3.0            py38h277e83a_2  \n",
      "mkl_random                1.2.2            py38hf11a4ad_0  \n",
      "msys2-conda-epoch         20160418                      1  \n",
      "multidict                 5.1.0            py38h2bbff1b_2  \n",
      "munkres                   1.1.4                      py_0  \n",
      "nbclient                  0.5.3              pyhd3eb1b0_0  \n",
      "nbconvert                 6.1.0            py38haa95532_0  \n",
      "nbformat                  5.1.3              pyhd3eb1b0_0  \n",
      "nest-asyncio              1.5.1              pyhd3eb1b0_0  \n",
      "networkx                  2.6.2              pyhd3eb1b0_0  \n",
      "notebook                  6.4.3            py38haa95532_0  \n",
      "numexpr                   2.7.3            py38hb80d3ca_1  \n",
      "numpy                     1.20.3           py38ha4e8547_0  \n",
      "numpy-base                1.20.3           py38hc2deb75_0  \n",
      "oauthlib                  3.1.1              pyhd3eb1b0_0  \n",
      "olefile                   0.46                       py_0  \n",
      "opencv                    4.0.1            py38h2a7c758_0  \n",
      "openjpeg                  2.3.0                h5ec785f_1  \n",
      "openssl                   1.1.1k               h8ffe710_1    conda-forge\n",
      "opt_einsum                3.3.0              pyhd3eb1b0_1  \n",
      "packaging                 21.0               pyhd3eb1b0_0  \n",
      "pandas                    1.3.1            py38h6214cd6_0  \n",
      "pandocfilters             1.4.3            py38haa95532_1  \n",
      "parso                     0.8.2              pyhd3eb1b0_0  \n",
      "partd                     1.2.0              pyhd3eb1b0_0  \n",
      "pickleshare               0.7.5           pyhd3eb1b0_1003  \n",
      "pillow                    8.3.1            py38h4fa10fc_0  \n",
      "pip                       21.0.1           py38haa95532_0  \n",
      "portaudio                 19.6.0               h0e60522_4    conda-forge\n",
      "prometheus_client         0.11.0             pyhd3eb1b0_0  \n",
      "prompt-toolkit            3.0.17             pyh06a4308_0  \n",
      "protobuf                  3.17.2           py38hd77b12b_0  \n",
      "py-opencv                 4.0.1            py38he44ac1e_0  \n",
      "pyasn1                    0.4.8                      py_0  \n",
      "pyasn1-modules            0.2.8                      py_0  \n",
      "pycparser                 2.20                       py_2  \n",
      "pygments                  2.10.0             pyhd3eb1b0_0  \n",
      "pyjwt                     2.1.0            py38haa95532_0  \n",
      "pyopenssl                 20.0.1             pyhd3eb1b0_1  \n",
      "pyparsing                 2.4.7              pyhd3eb1b0_0  \n",
      "pyqt                      5.9.2            py38ha925a31_4  \n",
      "pyreadline                2.1                      py38_1  \n",
      "pyrsistent                0.17.3           py38he774522_0  \n",
      "pysocks                   1.7.1            py38haa95532_0  \n",
      "pysoundfile               0.10.3.post1       pyhd3deb0d_0    conda-forge\n",
      "python                    3.8.11               h6244533_1  \n",
      "python-dateutil           2.8.2              pyhd3eb1b0_0  \n",
      "python-sounddevice        0.4.1              pyh9f0ad1d_0    conda-forge\n",
      "python_abi                3.8                      2_cp38    conda-forge\n",
      "pytz                      2021.1             pyhd3eb1b0_0  \n",
      "pywavelets                1.1.1            py38he774522_2  \n",
      "pywin32                   228              py38hbaba5e8_1  \n",
      "pywinpty                  0.5.7                    py38_0  \n",
      "pyyaml                    5.4.1            py38h2bbff1b_1  \n",
      "pyzmq                     22.2.1           py38hd77b12b_1  \n",
      "qt                        5.9.7            vc14h73c81de_0  \n",
      "requests                  2.25.1             pyhd3eb1b0_0  \n",
      "requests-oauthlib         1.3.0                      py_0  \n",
      "rsa                       4.7.2              pyhd3eb1b0_1  \n",
      "scikit-image              0.18.1           py38hf11a4ad_0  \n",
      "scikit-learn              0.24.2           py38hf11a4ad_1  \n",
      "scipy                     1.6.2            py38h66253e8_1  \n",
      "send2trash                1.5.0              pyhd3eb1b0_1  \n",
      "setuptools                52.0.0           py38haa95532_0  \n",
      "sip                       4.19.13          py38ha925a31_0  \n",
      "six                       1.16.0             pyhd3eb1b0_0  \n",
      "snappy                    1.1.8                h33f27b4_0  \n",
      "sqlite                    3.36.0               h2bbff1b_0  \n",
      "tensorboard               2.4.0              pyhc547734_0  \n",
      "tensorboard-plugin-wit    1.6.0                      py_0  \n",
      "tensorflow                2.3.0           mkl_py38h8c0d9a2_0  \n",
      "tensorflow-base           2.3.0           eigen_py38h75a453f_0  \n",
      "tensorflow-estimator      2.5.0              pyh7b7c402_0  \n",
      "termcolor                 1.1.0            py38haa95532_1  \n",
      "terminado                 0.9.4            py38haa95532_0  \n",
      "testpath                  0.5.0              pyhd3eb1b0_0  \n",
      "threadpoolctl             2.2.0              pyhbf3da8f_0  \n",
      "tifffile                  2021.7.2           pyhd3eb1b0_2  \n",
      "tk                        8.6.10               he774522_0  \n",
      "toolz                     0.11.1             pyhd3eb1b0_0  \n",
      "tornado                   6.1              py38h2bbff1b_0  \n",
      "traitlets                 5.0.5              pyhd3eb1b0_0  \n",
      "typing-extensions         3.10.0.0             hd3eb1b0_0  \n",
      "typing_extensions         3.10.0.0           pyh06a4308_0  \n",
      "urllib3                   1.26.6             pyhd3eb1b0_1  \n",
      "vc                        14.2                 h21ff451_1  \n",
      "vs2015_runtime            14.27.29016          h5e58377_2  \n",
      "wcwidth                   0.2.5                      py_0  \n",
      "webencodings              0.5.1                    py38_1  \n",
      "werkzeug                  1.0.1              pyhd3eb1b0_0  \n",
      "wheel                     0.37.0             pyhd3eb1b0_0  \n",
      "win_inet_pton             1.1.0            py38haa95532_0  \n",
      "wincertstore              0.2                      py38_0  \n",
      "winpty                    0.4.3                         4  \n",
      "wrapt                     1.12.1           py38he774522_1  \n",
      "xz                        5.2.5                h62dcd97_0  \n",
      "yaml                      0.2.5                he774522_0  \n",
      "yarl                      1.6.3            py38h2bbff1b_0  \n",
      "zfp                       0.5.5                hd77b12b_6  \n",
      "zipp                      3.5.0              pyhd3eb1b0_0  \n",
      "zlib                      1.2.11               h62dcd97_4  \n",
      "zstd                      1.4.9                h19a0ad4_0  \n"
     ]
    }
   ],
   "source": [
    "#prints the list of installed packages in the environment\n",
    "#useful for checking versions and confirming if the packages have successfully installed\n",
    "!conda list"
   ]
  },
  {
   "cell_type": "code",
   "execution_count": 3,
   "id": "d52b8b9e",
   "metadata": {},
   "outputs": [
    {
     "name": "stdout",
     "output_type": "stream",
     "text": [
      "Collecting package metadata (current_repodata.json): ...working... done\n",
      "Solving environment: ...working... done\n",
      "\n",
      "# All requested packages already installed.\n",
      "\n",
      "Collecting package metadata (current_repodata.json): ...working... done\n",
      "Solving environment: ...working... done\n",
      "\n",
      "# All requested packages already installed.\n",
      "\n",
      "Collecting package metadata (current_repodata.json): ...working... done\n",
      "Solving environment: ...working... done\n",
      "\n",
      "# All requested packages already installed.\n",
      "\n",
      "Collecting package metadata (current_repodata.json): ...working... done\n",
      "Solving environment: ...working... done\n",
      "\n",
      "## Package Plan ##\n",
      "\n",
      "  environment location: C:\\Users\\Sarthak\\anaconda3\\envs\\prom02_env\n",
      "\n",
      "  added / updated specs:\n",
      "    - scikit-learn\n",
      "\n",
      "\n",
      "The following packages will be downloaded:\n",
      "\n",
      "    package                    |            build\n",
      "    ---------------------------|-----------------\n",
      "    threadpoolctl-2.2.0        |     pyhbf3da8f_0          16 KB\n",
      "    ------------------------------------------------------------\n",
      "                                           Total:          16 KB\n",
      "\n",
      "The following NEW packages will be INSTALLED:\n",
      "\n",
      "  icc_rt             pkgs/main/win-64::icc_rt-2019.0.0-h0cc432a_1\n",
      "  joblib             pkgs/main/noarch::joblib-1.0.1-pyhd3eb1b0_0\n",
      "  scikit-learn       pkgs/main/win-64::scikit-learn-0.24.2-py38hf11a4ad_1\n",
      "  scipy              pkgs/main/win-64::scipy-1.6.2-py38h66253e8_1\n",
      "  threadpoolctl      pkgs/main/noarch::threadpoolctl-2.2.0-pyhbf3da8f_0\n",
      "\n",
      "\n",
      "\n",
      "Downloading and Extracting Packages\n",
      "\n",
      "threadpoolctl-2.2.0  | 16 KB     |            |   0% \n",
      "threadpoolctl-2.2.0  | 16 KB     | ########## | 100% \n",
      "threadpoolctl-2.2.0  | 16 KB     | ########## | 100% \n",
      "Preparing transaction: ...working... done\n",
      "Verifying transaction: ...working... done\n",
      "Executing transaction: ...working... \n",
      "\n",
      "    Windows 64-bit packages of scikit-learn can be accelerated using scikit-learn-intelex.\n",
      "    More details are available here: https://intel.github.io/scikit-learn-intelex\n",
      "\n",
      "    For example:\n",
      "\n",
      "        $ conda install scikit-learn-intelex\n",
      "        $ python -m sklearnex my_application.py\n",
      "\n",
      "\n",
      "done\n",
      "Collecting package metadata (current_repodata.json): ...working... done\n",
      "Solving environment: ...working... done\n",
      "\n",
      "## Package Plan ##\n",
      "\n",
      "  environment location: C:\\Users\\Sarthak\\anaconda3\\envs\\prom02_env\n",
      "\n",
      "  added / updated specs:\n",
      "    - scikit-image\n",
      "\n",
      "\n",
      "The following packages will be downloaded:\n",
      "\n",
      "    package                    |            build\n",
      "    ---------------------------|-----------------\n",
      "    dask-core-2021.8.0         |     pyhd3eb1b0_0         704 KB\n",
      "    ------------------------------------------------------------\n",
      "                                           Total:         704 KB\n",
      "\n",
      "The following NEW packages will be INSTALLED:\n",
      "\n",
      "  blosc              pkgs/main/win-64::blosc-1.21.0-h19a0ad4_0\n",
      "  bzip2              pkgs/main/win-64::bzip2-1.0.8-he774522_0\n",
      "  cfitsio            pkgs/main/win-64::cfitsio-3.470-he774522_6\n",
      "  charls             pkgs/main/win-64::charls-2.2.0-h6c2663c_0\n",
      "  cloudpickle        pkgs/main/noarch::cloudpickle-1.6.0-py_0\n",
      "  cytoolz            pkgs/main/win-64::cytoolz-0.11.0-py38he774522_0\n",
      "  dask-core          pkgs/main/noarch::dask-core-2021.8.0-pyhd3eb1b0_0\n",
      "  fsspec             pkgs/main/noarch::fsspec-2021.7.0-pyhd3eb1b0_0\n",
      "  giflib             pkgs/main/win-64::giflib-5.2.1-h62dcd97_0\n",
      "  imagecodecs        pkgs/main/win-64::imagecodecs-2021.6.8-py38h5da4933_0\n",
      "  imageio            pkgs/main/noarch::imageio-2.9.0-pyhd3eb1b0_0\n",
      "  lcms2              pkgs/main/win-64::lcms2-2.12-h83e58a3_0\n",
      "  lerc               pkgs/main/win-64::lerc-2.2.1-hd77b12b_0\n",
      "  libaec             pkgs/main/win-64::libaec-1.0.4-h33f27b4_1\n",
      "  libdeflate         pkgs/main/win-64::libdeflate-1.7-h2bbff1b_5\n",
      "  libzopfli          pkgs/main/win-64::libzopfli-1.0.3-ha925a31_0\n",
      "  locket             pkgs/main/win-64::locket-0.2.1-py38haa95532_1\n",
      "  networkx           pkgs/main/noarch::networkx-2.6.2-pyhd3eb1b0_0\n",
      "  openjpeg           pkgs/main/win-64::openjpeg-2.3.0-h5ec785f_1\n",
      "  partd              pkgs/main/noarch::partd-1.2.0-pyhd3eb1b0_0\n",
      "  pywavelets         pkgs/main/win-64::pywavelets-1.1.1-py38he774522_2\n",
      "  pyyaml             pkgs/main/win-64::pyyaml-5.4.1-py38h2bbff1b_1\n",
      "  scikit-image       pkgs/main/win-64::scikit-image-0.18.1-py38hf11a4ad_0\n",
      "  snappy             pkgs/main/win-64::snappy-1.1.8-h33f27b4_0\n",
      "  tifffile           pkgs/main/noarch::tifffile-2021.7.2-pyhd3eb1b0_2\n",
      "  toolz              pkgs/main/noarch::toolz-0.11.1-pyhd3eb1b0_0\n",
      "  yaml               pkgs/main/win-64::yaml-0.2.5-he774522_0\n",
      "  zfp                pkgs/main/win-64::zfp-0.5.5-hd77b12b_6\n",
      "\n",
      "\n",
      "\n",
      "Downloading and Extracting Packages\n",
      "\n",
      "dask-core-2021.8.0   | 704 KB    |            |   0% \n",
      "dask-core-2021.8.0   | 704 KB    | 2          |   2% \n",
      "dask-core-2021.8.0   | 704 KB    | #########5 |  95% \n",
      "dask-core-2021.8.0   | 704 KB    | ########## | 100% \n",
      "Preparing transaction: ...working... done\n",
      "Verifying transaction: ...working... done\n",
      "Executing transaction: ...working... done\n",
      "Collecting package metadata (current_repodata.json): ...working... done\n",
      "Solving environment: ...working... done\n",
      "\n",
      "## Package Plan ##\n",
      "\n",
      "  environment location: C:\\Users\\Sarthak\\anaconda3\\envs\\prom02_env\n",
      "\n",
      "  added / updated specs:\n",
      "    - opencv\n",
      "\n",
      "\n",
      "The following NEW packages will be INSTALLED:\n",
      "\n",
      "  hdf5               pkgs/main/win-64::hdf5-1.10.4-h7ebc959_0\n",
      "  libopencv          pkgs/main/win-64::libopencv-4.0.1-hbb9e17c_0\n",
      "  opencv             pkgs/main/win-64::opencv-4.0.1-py38h2a7c758_0\n",
      "  py-opencv          pkgs/main/win-64::py-opencv-4.0.1-py38he44ac1e_0\n",
      "\n",
      "\n",
      "Preparing transaction: ...working... done\n",
      "Verifying transaction: ...working... done\n",
      "Executing transaction: ...working... done\n",
      "Collecting package metadata (current_repodata.json): ...working... done\n",
      "Solving environment: ...working... failed with initial frozen solve. Retrying with flexible solve.\n",
      "Solving environment: ...working... failed with repodata from current_repodata.json, will retry with next repodata source.\n",
      "Collecting package metadata (repodata.json): ...working... done\n",
      "Solving environment: ...working... failed with initial frozen solve. Retrying with flexible solve.\n",
      "Solving environment: ...working... \n",
      "Found conflicts! Looking for incompatible packages.\n",
      "This can take several minutes.  Press CTRL-C to abort.\n",
      "failed\n"
     ]
    },
    {
     "name": "stderr",
     "output_type": "stream",
     "text": [
      "\n",
      "Building graph of deps:   0%|          | 0/5 [00:00<?, ?it/s]\n",
      "Examining python=3.8:   0%|          | 0/5 [00:00<?, ?it/s]  \n",
      "Examining pickle5:  20%|##        | 1/5 [00:00<00:00,  8.38it/s]\n",
      "Examining pickle5:  40%|####      | 2/5 [00:00<00:00, 16.76it/s]\n",
      "Examining @/win-64::__win==0=0:  40%|####      | 2/5 [00:00<00:00, 16.76it/s]\n",
      "Examining @/win-64::__cuda==11.2=0:  60%|######    | 3/5 [00:00<00:00, 16.76it/s]\n",
      "Examining @/win-64::__archspec==1=x86_64:  80%|########  | 4/5 [00:00<00:00, 16.76it/s]\n",
      "                                                                                       \n",
      "\n",
      "Determining conflicts:   0%|          | 0/5 [00:00<?, ?it/s]\n",
      "Examining conflict for python pickle5:   0%|          | 0/5 [00:00<?, ?it/s]\n",
      "                                                                            \n",
      "\n",
      "UnsatisfiableError: The following specifications were found\n",
      "to be incompatible with the existing python installation in your environment:\n",
      "\n",
      "Specifications:\n",
      "\n",
      "  - pickle5 -> python[version='>=3.6,<3.7.0a0|>=3.7,<3.8.0a0']\n",
      "\n",
      "Your python: python=3.8\n",
      "\n",
      "If python is on the left-most side of the chain, that's the version you've asked for.\n",
      "When python appears to the right, that indicates that the thing on the left is somehow\n",
      "not available for the python version you are constrained to. Note that conda will not\n",
      "change your python version to a different minor version unless you explicitly specify\n",
      "that.\n",
      "\n",
      "\n",
      "\n"
     ]
    }
   ],
   "source": [
    "#installing the required packages\n",
    "import sys\n",
    "!conda install --yes --prefix {sys.prefix} numpy\n",
    "!conda install --yes --prefix {sys.prefix} pandas\n",
    "!conda install --yes --prefix {sys.prefix} matplotlib\n",
    "!conda install --yes --prefix {sys.prefix} scikit-learn\n",
    "!conda install --yes --prefix {sys.prefix} scikit-image\n",
    "!conda install --yes --prefix {sys.prefix} opencv\n",
    "!conda install --yes --prefix {sys.prefix} pickle5"
   ]
  },
  {
   "cell_type": "markdown",
   "id": "d8a4341e",
   "metadata": {},
   "source": [
    "## 1.3 Importing the installed packages in the environment"
   ]
  },
  {
   "cell_type": "code",
   "execution_count": 3,
   "id": "0e4103c7",
   "metadata": {},
   "outputs": [],
   "source": [
    "#importing the packages in the environment for use\n",
    "\n",
    "import glob #module for matching pathnames to a specified pattern\n",
    "import os #module allowing interaction with the file system\n",
    "import random #module's sample function to randomly select a file from a list of files\n",
    "import shutil #module offering a number of high-level operations on files such as move or copy\n",
    "import time #module to handle time-related tasks such as model training time etc.\n",
    "\n",
    "import numpy as np #module for added support to large, multi-dimensional arrays\n",
    "import pandas as pd #module for data manipulation and analysis \n",
    "import matplotlib.pyplot as plt #library for creating visualizations\n",
    "\n",
    "import cv2 #real-time optimized Computer Vision library\n",
    "\n",
    "from sklearn.svm import SVC #module for classifier SVM\n",
    "from sklearn.ensemble import RandomForestClassifier #module for classifier Random Forest\n",
    "from sklearn.neighbors import KNeighborsClassifier #module for classifier K-Nearest Neighbor\n",
    "\n",
    "from skimage.feature import hog #module for feature descriptor method - HOG (Histogram of Oriented Gradients)\n",
    "\n",
    "from sklearn import metrics #module for performance metrics\n",
    "\n",
    "#metrics to score the models\n",
    "from sklearn.metrics import accuracy_score\n",
    "from sklearn.metrics import precision_score\n",
    "from sklearn.metrics import f1_score\n",
    "from sklearn.metrics import recall_score\n",
    "\n",
    "from sklearn.metrics import roc_auc_score\n",
    "from sklearn.metrics import confusion_matrix\n",
    "\n",
    "import statistics as stat #for calculating average for the scores over 3 datasets\n",
    "\n",
    "import pickle #module for exporting the model"
   ]
  },
  {
   "cell_type": "code",
   "execution_count": 4,
   "id": "f08d646e",
   "metadata": {},
   "outputs": [],
   "source": [
    "#seting the backend of matplotlib to the 'inline' backend, so the plots are shown in the notebook\n",
    "%matplotlib inline"
   ]
  },
  {
   "cell_type": "markdown",
   "id": "668891aa",
   "metadata": {},
   "source": [
    "# 2. Declaring variables, constants for paths and regex patterns"
   ]
  },
  {
   "cell_type": "code",
   "execution_count": 5,
   "id": "2c59b3d6",
   "metadata": {},
   "outputs": [],
   "source": [
    "CAT_DIR = 'MRL_DS_CAT' #directory where the images are categorised by state i.e., open or closed\n",
    "SUB_DIR = 'PART_' #sub-directory where files are stored for different datasets\n",
    "\n",
    "OPEN_DIR = 'OPEN_EYES' #directory where images for open-state for subjects are kept\n",
    "CLOSED_DIR = 'CLOSED_EYES' #directory where images for closed-state for subjects are kept\n",
    "\n",
    "IMG_DEF_SIZE = 80 #default size for images\n",
    "\n",
    "IMG_MIN_SIZE = 80 #default size for images\n",
    "IMG_MAX_SIZE = 224 #default size for images"
   ]
  },
  {
   "cell_type": "code",
   "execution_count": 6,
   "id": "851c6881",
   "metadata": {},
   "outputs": [],
   "source": [
    "open_eye_regex = '*_?_?_1_?_?_*.png' #regex pattern for open eye-state files\n",
    "closed_eye_regex = '*_?_?_0_?_?_*.png' #regex pattern for closed eye-state files"
   ]
  },
  {
   "cell_type": "code",
   "execution_count": 7,
   "id": "102165d3",
   "metadata": {},
   "outputs": [],
   "source": [
    "#feature label constants - FAST, Harris Corner, HOG\n",
    "NO_FEATURE = \"na\"\n",
    "FAST = \"fs\"\n",
    "HARRIS = \"ch\"\n",
    "HOG = \"hg\""
   ]
  },
  {
   "cell_type": "markdown",
   "id": "3b8c8fb2",
   "metadata": {},
   "source": [
    "# 3. Defining functions for miscellaneous operations"
   ]
  },
  {
   "cell_type": "markdown",
   "id": "121963b8",
   "metadata": {},
   "source": [
    "## 3.1 Function to load the dataset(s) for training"
   ]
  },
  {
   "cell_type": "code",
   "execution_count": 8,
   "id": "f8a80fc6",
   "metadata": {},
   "outputs": [],
   "source": [
    "def load_dataset(image_label, path, image_size):\n",
    "    dataset = []\n",
    "    \n",
    "    #allocating files to either closed or open state\n",
    "    for eye_state in image_label:\n",
    "        #joining file path with eye state (sub-directory)\n",
    "        file_path = os.path.join(f'{path}', eye_state)\n",
    "        #storing eye-state information to use as label\n",
    "        class_num = image_label.index(eye_state)\n",
    "        \n",
    "        #looping through all images in the path\n",
    "        for image in os.listdir(file_path):\n",
    "            try:\n",
    "                #reading the image in grayscale\n",
    "                image_array = cv2.imread(os.path.join(file_path, image), cv2.IMREAD_GRAYSCALE)\n",
    "                #converting back to RGB format\n",
    "                image_back2rgb = cv2.cvtColor(image_array, cv2.COLOR_GRAY2RGB)\n",
    "                #resizing the image to get optimal results\n",
    "                image_resized = cv2.resize(image_back2rgb, (image_size, image_size))\n",
    "                #lastly, append to an array\n",
    "                dataset.append([image_resized, class_num])\n",
    "            except Exception as e:\n",
    "                pass\n",
    "    \n",
    "    #adding column names and coverting the array to dataframe for easy use\n",
    "    dataset = pd.DataFrame(dataset,columns=['image','label'],index = None)\n",
    "    return dataset"
   ]
  },
  {
   "cell_type": "markdown",
   "id": "e2686ff2",
   "metadata": {},
   "source": [
    "## 3.2 Function to split the dataset into training and testing"
   ]
  },
  {
   "cell_type": "code",
   "execution_count": 9,
   "id": "098d3a3a",
   "metadata": {},
   "outputs": [],
   "source": [
    "def split_dataset(dataset):\n",
    "    #splitting the dataset into training i.e., 70% and testing data i.e., 30%\n",
    "    training_dataset = dataset.sample(frac=0.7, random_state=25)\n",
    "    testing_dataset = dataset.drop(training_dataset.index)\n",
    "\n",
    "    return training_dataset, testing_dataset"
   ]
  },
  {
   "cell_type": "markdown",
   "id": "8745c196",
   "metadata": {},
   "source": [
    "## 3.3 Function to split the training and testing datasets into X_train, y_train and X_test, y_test"
   ]
  },
  {
   "cell_type": "code",
   "execution_count": 10,
   "id": "91db9440",
   "metadata": {},
   "outputs": [],
   "source": [
    "def split_xy(feature_label, dataset):\n",
    "    X = []\n",
    "    y = []\n",
    "\n",
    "    #splitting training/testing datasets again into X_train/X_test and y_train/y_test respectively\n",
    "    #Raw Pixel approach\n",
    "    if feature_label == \"na\":\n",
    "        for index, row in dataset.iterrows():\n",
    "            X.append(row[\"image\"])\n",
    "            y.append(row[\"label\"])\n",
    "        \n",
    "        #normalizing image inputs\n",
    "        X = np.array(X, dtype='float')\n",
    "        X = X/255.0\n",
    "        \n",
    "        #dimensionality reduction\n",
    "        dim_count = X.ndim\n",
    "        X_reduced = 1\n",
    "        if dim_count>2:\n",
    "            for i in range (1, dim_count):\n",
    "                X_reduced *= X.shape[i]\n",
    "\n",
    "        X = X.reshape(X.shape[0], X_reduced)\n",
    "    \n",
    "    #FAST method approach\n",
    "    elif feature_label == \"fs\":\n",
    "        for index, row in dataset.iterrows():\n",
    "            X.append(get_fast(row[\"image\"]))\n",
    "            y.append(row[\"label\"])\n",
    "            \n",
    "        X = np.vstack(np.array(X))\n",
    "        \n",
    "        #normalizing image inputs\n",
    "        scaler = MinMaxScaler(feature_range=(0,1))\n",
    "        X = scaler.fit_transform(X)       \n",
    "    \n",
    "    #Harris Corner method approach\n",
    "    elif feature_label == \"ch\":\n",
    "        for index, row in dataset.iterrows():\n",
    "            X.append(get_harris(row[\"image\"]))\n",
    "            y.append(row[\"label\"])\n",
    "        \n",
    "        #normalizing image inputs\n",
    "        X = np.array(X, dtype='float')\n",
    "        X = X/255.0\n",
    "        \n",
    "        #dimensionality reduction\n",
    "        dim_count = X.ndim\n",
    "        X_reduced = 1\n",
    "        if dim_count>2:\n",
    "            for i in range (1, dim_count):\n",
    "                X_reduced *= X.shape[i]\n",
    "\n",
    "        X = X.reshape(X.shape[0], X_reduced)\n",
    "    \n",
    "    #HOG method approach\n",
    "    elif feature_label == \"hg\":\n",
    "        for index, row in dataset.iterrows():\n",
    "            X.append(get_hog(row[\"image\"]))\n",
    "            y.append(row[\"label\"])\n",
    "            \n",
    "    return X, y"
   ]
  },
  {
   "cell_type": "markdown",
   "id": "7c427921",
   "metadata": {},
   "source": [
    "## 3.4 Function to train the models"
   ]
  },
  {
   "cell_type": "code",
   "execution_count": 11,
   "id": "3b37d5f9",
   "metadata": {},
   "outputs": [],
   "source": [
    "def train_model(label, X_train, y_train):\n",
    "    #storing model training start time\n",
    "    start_time = time.time()\n",
    "    \n",
    "    #SVM model initialisation\n",
    "    if label == 'svm':\n",
    "        #with probability=False SVM is faster, so used to get threshhold\n",
    "        #however, to get roc_auc score it needs to be 'True'\n",
    "        #model = SVC(C=1.0, kernel='rbf', degree=3, gamma='scale', probability=False)\n",
    "        model = SVC(C=1.0, kernel='rbf', degree=3, gamma='scale', probability=True)\n",
    "    #RF model initialisation\n",
    "    elif label == 'rf':\n",
    "        model = RandomForestClassifier(n_estimators=100, random_state=None)\n",
    "    #KNN model initialisation\n",
    "    elif label == 'knn':\n",
    "        model = KNeighborsClassifier(n_neighbors=5, weights='uniform', algorithm='auto')\n",
    "    \n",
    "    #fitting training data in the model\n",
    "    model.fit(X_train, y_train)\n",
    "    #calculating elapsed time in seconds since the start of training process\n",
    "    elapsed_time = time.time() - start_time\n",
    "    \n",
    "    return model, round(elapsed_time), time.strftime(\"%H:%M:%S\", time.gmtime(elapsed_time))"
   ]
  },
  {
   "cell_type": "markdown",
   "id": "e35b4053",
   "metadata": {},
   "source": [
    "## 3.5 Function for feature extraction/description"
   ]
  },
  {
   "cell_type": "code",
   "execution_count": 12,
   "id": "be53f4e2",
   "metadata": {},
   "outputs": [],
   "source": [
    "def get_fast(image):\n",
    "    #converting image to grayscale\n",
    "    gray_image = cv2.cvtColor(image, cv2.COLOR_RGB2GRAY)\n",
    "    \n",
    "    #initialising fast detector\n",
    "    fast = cv2.FastFeatureDetector_create()\n",
    "    #initialising brief descriptor\n",
    "    brief = cv2.xfeatures2d.BriefDescriptorExtractor_create()\n",
    "    \n",
    "    #detecting keypoints in the image\n",
    "    kp_fast = fast.detect(gray_image, None)\n",
    "    #computing descriptors based on keypoints\n",
    "    kp_fast, ds_fast = brief.compute(gray_image, kp_fast)\n",
    "    \n",
    "    return ds_fast"
   ]
  },
  {
   "cell_type": "code",
   "execution_count": 13,
   "id": "637b4fdf",
   "metadata": {},
   "outputs": [],
   "source": [
    "def get_harris(image):\n",
    "    \n",
    "    #converting image to grayscale\n",
    "    gray_image = cv2.cvtColor(image, cv2.COLOR_RGB2GRAY)\n",
    "    #storing image as float\n",
    "    gray_image = np.float32(gray_image)\n",
    "    #calculating corners\n",
    "    dst = cv2.cornerHarris(gray_image, 2, 3, 0.04)\n",
    "    #result is dilated for marking the corners\n",
    "    dst = cv2.dilate(dst, None)\n",
    "    \n",
    "    return dst"
   ]
  },
  {
   "cell_type": "code",
   "execution_count": 14,
   "id": "e13d2adf",
   "metadata": {},
   "outputs": [],
   "source": [
    "def get_hog(image):\n",
    "    #creating hog features and hog image\n",
    "    fd, hog_image = hog(image, orientations=9, pixels_per_cell=(8, 8), cells_per_block=(2, 2), visualize=True, multichannel=True)\n",
    "    return fd"
   ]
  },
  {
   "cell_type": "markdown",
   "id": "58f2aefd",
   "metadata": {},
   "source": [
    "## 3.6 Functions for image-preprocessing tasks (future works)"
   ]
  },
  {
   "cell_type": "code",
   "execution_count": 15,
   "id": "dfae13ff",
   "metadata": {},
   "outputs": [],
   "source": [
    "#function to increase contrast on the image \n",
    "def hist(img):\n",
    "    img_to_yuv = cv2.cvtColor(img,cv2.COLOR_BGR2YUV)\n",
    "    img_to_yuv[:,:,0] = cv2.equalizeHist(img_to_yuv[:,:,0])\n",
    "    hist_equalization_result = cv2.cvtColor(img_to_yuv, cv2.COLOR_YUV2BGR)\n",
    "    return hist_equalization_result"
   ]
  },
  {
   "cell_type": "code",
   "execution_count": 16,
   "id": "94348322",
   "metadata": {},
   "outputs": [],
   "source": [
    "#function to display results post image segmentation\n",
    "def display(a, b, title1 = \"Original\", title2 = \"Edited\"):\n",
    "    plt.subplot(121), plt.imshow(a), plt.title(title1)\n",
    "    plt.xticks([]), plt.yticks([])\n",
    "    plt.subplot(122), plt.imshow(b), plt.title(title2)\n",
    "    plt.xticks([]), plt.yticks([])\n",
    "    plt.show()"
   ]
  },
  {
   "cell_type": "markdown",
   "id": "b7de384e",
   "metadata": {},
   "source": [
    "# 4. Organising the samples in datasets per eye-states"
   ]
  },
  {
   "cell_type": "markdown",
   "id": "c5718b51",
   "metadata": {},
   "source": [
    "## 4.1 Getting the path for random part-datasets"
   ]
  },
  {
   "cell_type": "code",
   "execution_count": 17,
   "id": "c64fbb93",
   "metadata": {},
   "outputs": [],
   "source": [
    "#gets all the sub-directories matching the pattern specified i.e., ending in 'PART_'\n",
    "sub_dir_list = glob.glob(f'{CAT_DIR}\\\\{SUB_DIR}*')"
   ]
  },
  {
   "cell_type": "code",
   "execution_count": 18,
   "id": "f46dc30f",
   "metadata": {},
   "outputs": [
    {
     "name": "stdout",
     "output_type": "stream",
     "text": [
      "['MRL_DS_CAT\\\\PART_1', 'MRL_DS_CAT\\\\PART_2', 'MRL_DS_CAT\\\\PART_3']\n"
     ]
    }
   ],
   "source": [
    "#verifying all the paths\n",
    "print(sub_dir_list)"
   ]
  },
  {
   "cell_type": "markdown",
   "id": "0eee5020",
   "metadata": {},
   "source": [
    "## 4.2 Categorising the dataset(s) based on the eye-state i.e., open and closed"
   ]
  },
  {
   "cell_type": "code",
   "execution_count": 19,
   "id": "53fe7cfd",
   "metadata": {},
   "outputs": [],
   "source": [
    "#open eye-state images are being sorted\n",
    "for s in sub_dir_list:\n",
    "    #check if the OPEN_EYES folder exists, if not, create it\n",
    "    if not os.path.exists(f'{CAT_DIR}\\\\{os.path.split(s)[-1]}\\\\{OPEN_DIR}'): os.makedirs(f'{CAT_DIR}\\\\{os.path.split(s)[-1]}\\\\{OPEN_DIR}')\n",
    "    for filename in glob.glob(f'{CAT_DIR}\\\\{os.path.split(s)[-1]}\\\\{open_eye_regex}'):\n",
    "        #move all images matching 'open_eye_regex'\n",
    "        shutil.move(filename, f'{CAT_DIR}\\\\{os.path.split(s)[-1]}\\\\{OPEN_DIR}\\\\{os.path.split(filename)[-1]}')"
   ]
  },
  {
   "cell_type": "code",
   "execution_count": 20,
   "id": "ebafa63d",
   "metadata": {},
   "outputs": [],
   "source": [
    "#closed eye-state images are being sorted\n",
    "for s in sub_dir_list:\n",
    "    #check if the CLOSED_EYES folder exists, if not, create it\n",
    "    if not os.path.exists(f'{CAT_DIR}\\\\{os.path.split(s)[-1]}\\\\{CLOSED_DIR}'): os.makedirs(f'{CAT_DIR}\\\\{os.path.split(s)[-1]}\\\\{CLOSED_DIR}')\n",
    "    for filename in glob.glob(f'{CAT_DIR}\\\\{os.path.split(s)[-1]}\\\\{closed_eye_regex}'):        \n",
    "        #move all images matching 'closed_eye_regex'\n",
    "        shutil.move(filename, f'{CAT_DIR}\\\\{os.path.split(s)[-1]}\\\\{CLOSED_DIR}\\\\{os.path.split(filename)[-1]}')"
   ]
  },
  {
   "cell_type": "markdown",
   "id": "66707293",
   "metadata": {},
   "source": [
    "# 5. Processing a few sample images (per eye-state)"
   ]
  },
  {
   "cell_type": "markdown",
   "id": "c6894ab4",
   "metadata": {},
   "source": [
    "## 5.1 Image pre-processing tasks such as gray-scaling, resizing etc."
   ]
  },
  {
   "cell_type": "code",
   "execution_count": 79,
   "id": "a224349a",
   "metadata": {},
   "outputs": [
    {
     "name": "stdout",
     "output_type": "stream",
     "text": [
      "File location for image (open): MRL_DS_CAT\\PART_1\\OPEN_EYES\\s0037_09713_1_1_1_0_0_01.png\n",
      "File location for image (closed): MRL_DS_CAT\\PART_1\\CLOSED_EYES\\s0012_02557_0_1_0_1_1_01.png\n"
     ]
    }
   ],
   "source": [
    "#picking up a random image\n",
    "random_file_open = random.choice(os.listdir(f'{sub_dir_list[0]}\\\\{OPEN_DIR}'))\n",
    "random_file_closed = random.choice(os.listdir(f'{sub_dir_list[0]}\\\\{CLOSED_DIR}'))\n",
    "\n",
    "img_open_fullpath = os.path.join(f'{sub_dir_list[0]}\\\\{OPEN_DIR}', random_file_open)\n",
    "img_closed_fullpath = os.path.join(f'{sub_dir_list[0]}\\\\{CLOSED_DIR}', random_file_closed)\n",
    "\n",
    "print(f'File location for image (open): {img_open_fullpath}')\n",
    "print(f'File location for image (closed): {img_closed_fullpath}')"
   ]
  },
  {
   "cell_type": "code",
   "execution_count": 80,
   "id": "29eb6e82",
   "metadata": {},
   "outputs": [
    {
     "name": "stdout",
     "output_type": "stream",
     "text": [
      "Dimension of image (open) are: (67, 67, 3)\n",
      "Dimension of image (closed) are: (114, 114, 3)\n"
     ]
    },
    {
     "data": {
      "text/plain": [
       "<matplotlib.image.AxesImage at 0x18b03314340>"
      ]
     },
     "execution_count": 80,
     "metadata": {},
     "output_type": "execute_result"
    },
    {
     "data": {
      "image/png": "[encoded data removed]",
      "text/plain": [
       "<Figure size 576x576 with 2 Axes>"
      ]
     },
     "metadata": {
      "needs_background": "light"
     },
     "output_type": "display_data"
    }
   ],
   "source": [
    "#viewing image using opencv\n",
    "img_open = cv2.imread(img_open_fullpath)\n",
    "img_closed = cv2.imread(img_closed_fullpath)\n",
    "\n",
    "print(f'Dimension of image (open) are: {img_open.shape}')\n",
    "print(f'Dimension of image (closed) are: {img_closed.shape}')\n",
    "\n",
    "fig, axes = plt.subplots(nrows = 1, ncols = 2, figsize=(8, 8))\n",
    "axes[0].imshow(img_open)\n",
    "axes[1].imshow(img_closed)"
   ]
  },
  {
   "cell_type": "code",
   "execution_count": 81,
   "id": "89e24236",
   "metadata": {},
   "outputs": [
    {
     "name": "stdout",
     "output_type": "stream",
     "text": [
      "Dimension of image (open) are: (67, 67, 3)\n",
      "Dimension of image (closed) are: (114, 114, 3)\n"
     ]
    },
    {
     "data": {
      "text/plain": [
       "<matplotlib.image.AxesImage at 0x18b033898b0>"
      ]
     },
     "execution_count": 81,
     "metadata": {},
     "output_type": "execute_result"
    },
    {
     "data": {
      "image/png": "[encoded data removed]",
      "text/plain": [
       "<Figure size 576x576 with 2 Axes>"
      ]
     },
     "metadata": {
      "needs_background": "light"
     },
     "output_type": "display_data"
    }
   ],
   "source": [
    "#loading image in grayscale\n",
    "img_open_gray = cv2.imread(img_open_fullpath, cv2.IMREAD_GRAYSCALE)\n",
    "img_closed_gray = cv2.imread(img_closed_fullpath, cv2.IMREAD_GRAYSCALE)\n",
    "\n",
    "img_open_back2rgb = cv2.cvtColor(img_open_gray, cv2.COLOR_GRAY2RGB)\n",
    "img_closed_back2rgb = cv2.cvtColor(img_closed_gray, cv2.COLOR_GRAY2RGB)\n",
    "\n",
    "print(f'Dimension of image (open) are: {img_open_back2rgb.shape}')\n",
    "print(f'Dimension of image (closed) are: {img_closed_back2rgb.shape}')\n",
    "\n",
    "fig, axes = plt.subplots(nrows = 1, ncols = 2, figsize=(8, 8))\n",
    "axes[0].imshow(img_open_back2rgb, cmap=\"gray\")\n",
    "axes[1].imshow(img_closed_back2rgb, cmap=\"gray\")"
   ]
  },
  {
   "cell_type": "code",
   "execution_count": 82,
   "id": "76a521ac",
   "metadata": {},
   "outputs": [
    {
     "name": "stdout",
     "output_type": "stream",
     "text": [
      "Dimension of image (open) are: (80, 80, 3)\n",
      "Dimension of image (closed) are: (80, 80, 3)\n"
     ]
    },
    {
     "data": {
      "text/plain": [
       "<matplotlib.image.AxesImage at 0x18b035eda30>"
      ]
     },
     "execution_count": 82,
     "metadata": {},
     "output_type": "execute_result"
    },
    {
     "data": {
      "image/png": "[encoded data removed]",
      "text/plain": [
       "<Figure size 576x576 with 2 Axes>"
      ]
     },
     "metadata": {
      "needs_background": "light"
     },
     "output_type": "display_data"
    }
   ],
   "source": [
    "#resizing the image\n",
    "img_open_resized = cv2.resize(img_open_back2rgb, (IMG_DEF_SIZE, IMG_DEF_SIZE))\n",
    "img_closed_resized = cv2.resize(img_closed_back2rgb, (IMG_DEF_SIZE, IMG_DEF_SIZE))\n",
    "\n",
    "print(f'Dimension of image (open) are: {img_open_resized.shape}')\n",
    "print(f'Dimension of image (closed) are: {img_closed_resized.shape}')\n",
    "\n",
    "fig, axes = plt.subplots(nrows = 1, ncols = 2, figsize=(8, 8))\n",
    "axes[0].imshow(img_open_resized, cmap=\"gray\")\n",
    "axes[1].imshow(img_closed_resized, cmap=\"gray\")"
   ]
  },
  {
   "cell_type": "markdown",
   "id": "871a5f5a",
   "metadata": {},
   "source": [
    "## 5.2 Further image pre-processing tasks such as segmentation and morphological transformation."
   ]
  },
  {
   "cell_type": "code",
   "execution_count": 83,
   "id": "2a1bc0dd",
   "metadata": {},
   "outputs": [],
   "source": [
    "#making a copy of images\n",
    "segmented_open = np.copy(img_open_resized)\n",
    "segmented_closed = np.copy(img_closed_resized)"
   ]
  },
  {
   "cell_type": "code",
   "execution_count": 84,
   "id": "70ee2ceb",
   "metadata": {},
   "outputs": [
    {
     "data": {
      "image/png": "[encoded data removed]",
      "text/plain": [
       "<Figure size 432x288 with 2 Axes>"
      ]
     },
     "metadata": {},
     "output_type": "display_data"
    },
    {
     "data": {
      "image/png": "[encoded data removed]",
      "text/plain": [
       "<Figure size 432x288 with 2 Axes>"
      ]
     },
     "metadata": {},
     "output_type": "display_data"
    }
   ],
   "source": [
    "# Segmentation\n",
    "gray_open = cv2.cvtColor(segmented_open, cv2.COLOR_RGB2GRAY)\n",
    "gray_closed = cv2.cvtColor(segmented_closed, cv2.COLOR_RGB2GRAY)\n",
    "\n",
    "ret_open, thresh_open = cv2.threshold(gray_open, 0, 255, cv2.THRESH_BINARY_INV + cv2.THRESH_OTSU)\n",
    "ret_closed, thresh_closed = cv2.threshold(gray_closed, 0, 255, cv2.THRESH_BINARY_INV + cv2.THRESH_OTSU)\n",
    "\n",
    "# Displaying segmented images\n",
    "display(segmented_open, thresh_open, 'Original', 'Segmented')\n",
    "display(segmented_closed, thresh_closed, 'Original', 'Segmented')"
   ]
  },
  {
   "cell_type": "code",
   "execution_count": 85,
   "id": "429f2fd6",
   "metadata": {},
   "outputs": [
    {
     "data": {
      "image/png": "[encoded data removed]",
      "text/plain": [
       "<Figure size 432x288 with 2 Axes>"
      ]
     },
     "metadata": {},
     "output_type": "display_data"
    },
    {
     "data": {
      "image/png": "[encoded data removed]",
      "text/plain": [
       "<Figure size 432x288 with 2 Axes>"
      ]
     },
     "metadata": {},
     "output_type": "display_data"
    }
   ],
   "source": [
    "# Further noise removal\n",
    "kernel = np.ones((3, 3), np.uint8)\n",
    "\n",
    "opening_open = cv2.morphologyEx(thresh_open, cv2.MORPH_OPEN, kernel, iterations=2)\n",
    "opening_closed = cv2.morphologyEx(thresh_closed, cv2.MORPH_OPEN, kernel, iterations=2)\n",
    "\n",
    "# sure background area\n",
    "sure_bg_open = cv2.dilate(opening_open, kernel, iterations=3)\n",
    "sure_bg_closed = cv2.dilate(opening_closed, kernel, iterations=3)\n",
    "\n",
    "# Finding sure foreground area\n",
    "dist_transform_open = cv2.distanceTransform(opening_open, cv2.DIST_L2, 5)\n",
    "dist_transform_closed = cv2.distanceTransform(opening_closed, cv2.DIST_L2, 5)\n",
    "\n",
    "ret_open, sure_fg_open = cv2.threshold(dist_transform_open, 0.7 * dist_transform_open.max(), 255, 0)\n",
    "ret_closed, sure_fg_closed = cv2.threshold(dist_transform_closed, 0.7 * dist_transform_closed.max(), 255, 0)\n",
    "\n",
    "# Finding unknown region\n",
    "sure_fg_open = np.uint8(sure_fg_open)\n",
    "sure_fg_closed = np.uint8(sure_fg_closed)\n",
    "\n",
    "unknown_open = cv2.subtract(sure_bg_open, sure_fg_open)\n",
    "unknown_closed = cv2.subtract(sure_bg_closed, sure_fg_closed)\n",
    "\n",
    "#Displaying segmented back ground\n",
    "display(segmented_open, sure_bg_open, 'Original', 'Segmented Background')\n",
    "display(segmented_closed, sure_bg_closed, 'Original', 'Segmented Background')"
   ]
  },
  {
   "cell_type": "code",
   "execution_count": 86,
   "id": "4e16459b",
   "metadata": {},
   "outputs": [
    {
     "data": {
      "image/png": "[encoded data removed]",
      "text/plain": [
       "<Figure size 432x288 with 2 Axes>"
      ]
     },
     "metadata": {},
     "output_type": "display_data"
    },
    {
     "data": {
      "image/png": "[encoded data removed]",
      "text/plain": [
       "<Figure size 432x288 with 2 Axes>"
      ]
     },
     "metadata": {},
     "output_type": "display_data"
    }
   ],
   "source": [
    "# Marker labelling\n",
    "ret_open, markers_open = cv2.connectedComponents(sure_fg_open)\n",
    "ret_closed, markers_closed = cv2.connectedComponents(sure_fg_closed)\n",
    "\n",
    "# Add one to all labels so that sure background is not 0, but 1\n",
    "markers_open = markers_open + 1\n",
    "markers_closed = markers_closed + 1\n",
    "\n",
    "# Now, mark the region of unknown with zero\n",
    "markers_open[unknown_open == 255] = 0\n",
    "markers_closed[unknown_closed == 255] = 0\n",
    "\n",
    "markers_open = cv2.watershed(segmented_open, markers_open)\n",
    "markers_closed = cv2.watershed(segmented_closed, markers_closed)\n",
    "segmented_open[markers_open == -1] = [255, 0, 0]\n",
    "segmented_closed[markers_closed == -1] = [255, 0, 0]\n",
    "\n",
    "# Displaying markers on the image\n",
    "display(segmented_open, markers_open, 'Original', 'Marked')\n",
    "display(segmented_closed, markers_closed, 'Original', 'Marked')"
   ]
  },
  {
   "cell_type": "markdown",
   "id": "64fafd91",
   "metadata": {},
   "source": [
    "## 5.3 Feature extraction and description"
   ]
  },
  {
   "cell_type": "markdown",
   "id": "730c5c7c",
   "metadata": {},
   "source": [
    "### 5.3.1 Features from Accelerated Segment Test (FAST)"
   ]
  },
  {
   "cell_type": "code",
   "execution_count": 87,
   "id": "acc05c20",
   "metadata": {},
   "outputs": [],
   "source": [
    "#getting keypoints on the sample images\n",
    "fast = cv2.FastFeatureDetector_create()\n",
    "brief = cv2.xfeatures2d.BriefDescriptorExtractor_create()\n",
    "\n",
    "kp_fast_open = fast.detect(img_open_resized, None)\n",
    "kp_fast_closed = fast.detect(img_closed_resized, None)\n",
    "\n",
    "kp_fast_open, ds_fast_open = brief.compute(img_open_resized, kp_fast_open)\n",
    "kp_fast_closed, ds_fast_closed = brief.compute(img_closed_resized, kp_fast_closed)\n",
    "\n",
    "img_fast_open = cv2.drawKeypoints(img_open_resized, kp_fast_open, None, color=(255,0,0))\n",
    "img_fast_closed = cv2.drawKeypoints(img_closed_resized, kp_fast_closed, None, color=(255,0,0))"
   ]
  },
  {
   "cell_type": "code",
   "execution_count": 88,
   "id": "6517182f",
   "metadata": {
    "scrolled": true
   },
   "outputs": [
    {
     "data": {
      "text/plain": [
       "<matplotlib.image.AxesImage at 0x18b036d69a0>"
      ]
     },
     "execution_count": 88,
     "metadata": {},
     "output_type": "execute_result"
    },
    {
     "data": {
      "image/png": "[encoded data removed]",
      "text/plain": [
       "<Figure size 576x576 with 2 Axes>"
      ]
     },
     "metadata": {
      "needs_background": "light"
     },
     "output_type": "display_data"
    }
   ],
   "source": [
    "#displaying images\n",
    "fig, axes = plt.subplots(nrows = 1, ncols = 2, figsize=(8, 8))\n",
    "axes[0].imshow(img_fast_open, cmap=\"gray\")\n",
    "axes[1].imshow(img_fast_closed, cmap=\"gray\")"
   ]
  },
  {
   "cell_type": "markdown",
   "id": "b1510183",
   "metadata": {},
   "source": [
    "### 5.3.2 Harris Corner"
   ]
  },
  {
   "cell_type": "code",
   "execution_count": 89,
   "id": "01152768",
   "metadata": {},
   "outputs": [],
   "source": [
    "#getting keypoints on the sample images\n",
    "harris_open = np.copy(img_open_resized)\n",
    "harris_closed = np.copy(img_closed_resized)\n",
    "\n",
    "gray_open = cv2.cvtColor(harris_open,cv2.COLOR_BGR2GRAY)\n",
    "gray_closed = cv2.cvtColor(harris_closed,cv2.COLOR_BGR2GRAY)\n",
    "\n",
    "gray_open = np.float32(gray_open)\n",
    "gray_closed = np.float32(gray_closed)\n",
    "\n",
    "dst_open = cv2.cornerHarris(gray_open, 2, 3, 0.04)\n",
    "dst_closed = cv2.cornerHarris(gray_closed, 2, 3, 0.04)\n",
    "\n",
    "dst_open = cv2.dilate(dst_open, None)\n",
    "dst_closed = cv2.dilate(dst_closed, None)\n",
    "\n",
    "harris_open[dst_open>0.01*dst_open.max()]=[0,0,255]\n",
    "harris_closed[dst_closed>0.01*dst_closed.max()]=[0,0,255]"
   ]
  },
  {
   "cell_type": "code",
   "execution_count": 90,
   "id": "d06d4d17",
   "metadata": {},
   "outputs": [
    {
     "data": {
      "text/plain": [
       "<matplotlib.image.AxesImage at 0x18b037459d0>"
      ]
     },
     "execution_count": 90,
     "metadata": {},
     "output_type": "execute_result"
    },
    {
     "data": {
      "image/png": "[encoded data removed]",
      "text/plain": [
       "<Figure size 576x576 with 2 Axes>"
      ]
     },
     "metadata": {
      "needs_background": "light"
     },
     "output_type": "display_data"
    }
   ],
   "source": [
    "#displaying images\n",
    "fig, axes = plt.subplots(nrows = 1, ncols = 2, figsize=(8, 8))\n",
    "axes[0].imshow(harris_open, cmap=\"gray\")\n",
    "axes[1].imshow(harris_closed, cmap=\"gray\")"
   ]
  },
  {
   "cell_type": "markdown",
   "id": "d513d546",
   "metadata": {},
   "source": [
    "### 5.3.3 Histogram of Oriented Gradients (HOG)"
   ]
  },
  {
   "cell_type": "code",
   "execution_count": 91,
   "id": "3bfb0d45",
   "metadata": {},
   "outputs": [],
   "source": [
    "#getting feature descriptors off the sample images\n",
    "fd_open, hog_image_open = hog(img_open_resized, orientations=9, pixels_per_cell=(8, 8), cells_per_block=(2, 2), visualize=True, multichannel=True)\n",
    "fd_closed, hog_image_closed = hog(img_closed_resized, orientations=9, pixels_per_cell=(8, 8), cells_per_block=(2, 2), visualize=True, multichannel=True)"
   ]
  },
  {
   "cell_type": "code",
   "execution_count": 92,
   "id": "894f14ef",
   "metadata": {},
   "outputs": [
    {
     "data": {
      "text/plain": [
       "<matplotlib.image.AxesImage at 0x18b03558160>"
      ]
     },
     "execution_count": 92,
     "metadata": {},
     "output_type": "execute_result"
    },
    {
     "data": {
      "image/png": "[encoded data removed]",
      "text/plain": [
       "<Figure size 576x576 with 2 Axes>"
      ]
     },
     "metadata": {
      "needs_background": "light"
     },
     "output_type": "display_data"
    }
   ],
   "source": [
    "#displaying hog images\n",
    "fig, axes = plt.subplots(nrows = 1, ncols = 2, figsize=(8, 8))\n",
    "axes[0].imshow(hog_image_open, cmap=\"gray\")\n",
    "axes[1].imshow(hog_image_closed, cmap=\"gray\")"
   ]
  },
  {
   "cell_type": "markdown",
   "id": "e8d46c3a",
   "metadata": {},
   "source": [
    "# 6. Establishing dataset and image size thresholds"
   ]
  },
  {
   "cell_type": "markdown",
   "id": "b8091ae9",
   "metadata": {},
   "source": [
    "## 6.1 Loading dataset with varying size images"
   ]
  },
  {
   "cell_type": "code",
   "execution_count": 36,
   "id": "91fa3ec5",
   "metadata": {},
   "outputs": [
    {
     "name": "stdout",
     "output_type": "stream",
     "text": [
      "['CLOSED_EYES', 'OPEN_EYES']\n"
     ]
    }
   ],
   "source": [
    "#defining classes for training data i.e., eye-state feature\n",
    "classes = [f'{CLOSED_DIR}', f'{OPEN_DIR}']\n",
    "print(classes)"
   ]
  },
  {
   "cell_type": "code",
   "execution_count": 62,
   "id": "7e8f49b2",
   "metadata": {
    "scrolled": true
   },
   "outputs": [
    {
     "name": "stdout",
     "output_type": "stream",
     "text": [
      "Processing samples at size: 80\n",
      "Processing done... Moving to next size.\n",
      "Processing samples at size: 88\n",
      "Processing done... Moving to next size.\n",
      "Processing samples at size: 96\n",
      "Processing done... Moving to next size.\n",
      "Processing samples at size: 104\n",
      "Processing done... Moving to next size.\n",
      "Processing samples at size: 112\n",
      "Processing done... Moving to next size.\n",
      "Processing samples at size: 120\n",
      "Processing done... Moving to next size.\n",
      "Processing samples at size: 128\n",
      "Processing done... Moving to next size.\n",
      "Processing samples at size: 136\n",
      "Processing done... Moving to next size.\n",
      "Processing samples at size: 144\n",
      "Processing done... Moving to next size.\n",
      "Processing samples at size: 152\n",
      "Processing done... Moving to next size.\n",
      "Processing samples at size: 160\n",
      "Processing done... Moving to next size.\n",
      "Processing samples at size: 168\n",
      "Processing done... Moving to next size.\n",
      "Processing samples at size: 176\n",
      "Processing done... Moving to next size.\n",
      "Processing samples at size: 184\n",
      "Processing done... Moving to next size.\n",
      "Processing samples at size: 192\n",
      "Processing done... Moving to next size.\n",
      "Processing samples at size: 200\n",
      "Processing done... Moving to next size.\n",
      "Processing samples at size: 208\n",
      "Processing done... Moving to next size.\n",
      "Processing samples at size: 216\n",
      "Processing done... Moving to next size.\n",
      "Processing samples at size: 224\n",
      "Processing done... Moving to next size.\n"
     ]
    }
   ],
   "source": [
    "#using SVM model as default for getting default image size for resizing\n",
    "svm_accuracy = []\n",
    "\n",
    "#loop through min and max sizes i.e., 80 and 224 with increment of 8 pixels\n",
    "for counter in range(IMG_MIN_SIZE, IMG_MAX_SIZE + 1, 8):\n",
    "    print('Processing samples at size: '+str(counter))\n",
    "    #loading one of the datasets\n",
    "    dataset = load_dataset(classes, sub_dir_list[0], counter)\n",
    "    #creating training and testing datasets\n",
    "    training_dataset, testing_dataset = split_dataset(dataset)\n",
    "    #further creating x_train, x_test and y_train, y_test\n",
    "    X_train, y_train = split_xy(NO_FEATURE, training_dataset)\n",
    "    X_test, y_test = split_xy(NO_FEATURE, testing_dataset)\n",
    "    #getting results for SVM model\n",
    "    svm_model, svm_time, svm_stime = train_model('svm', X_train, y_train)\n",
    "    #rounding the accuracy for model\n",
    "    svm_score = round(svm_model.score(X_test, y_test), 4)\n",
    "    #appending the results for comparison later\n",
    "    svm_accuracy.append([counter, svm_score, svm_time])\n",
    "    print('Processing done... Moving to next size.')\n",
    "\n",
    "#converting array to dataframe for plotting results\n",
    "svm_accuracy = pd.DataFrame(svm_accuracy,columns=['image_size','accuracy', 'training_time_in_sec'],index = None)"
   ]
  },
  {
   "cell_type": "code",
   "execution_count": 63,
   "id": "b9555ab5",
   "metadata": {},
   "outputs": [
    {
     "data": {
      "text/html": [
       "<div>\n",
       "<style scoped>\n",
       "    .dataframe tbody tr th:only-of-type {\n",
       "        vertical-align: middle;\n",
       "    }\n",
       "\n",
       "    .dataframe tbody tr th {\n",
       "        vertical-align: top;\n",
       "    }\n",
       "\n",
       "    .dataframe thead th {\n",
       "        text-align: right;\n",
       "    }\n",
       "</style>\n",
       "<table border=\"1\" class=\"dataframe\">\n",
       "  <thead>\n",
       "    <tr style=\"text-align: right;\">\n",
       "      <th></th>\n",
       "      <th>image_size</th>\n",
       "      <th>accuracy</th>\n",
       "      <th>training_time_in_sec</th>\n",
       "    </tr>\n",
       "  </thead>\n",
       "  <tbody>\n",
       "    <tr>\n",
       "      <th>0</th>\n",
       "      <td>80</td>\n",
       "      <td>0.9238</td>\n",
       "      <td>6</td>\n",
       "    </tr>\n",
       "    <tr>\n",
       "      <th>1</th>\n",
       "      <td>88</td>\n",
       "      <td>0.9238</td>\n",
       "      <td>8</td>\n",
       "    </tr>\n",
       "    <tr>\n",
       "      <th>2</th>\n",
       "      <td>96</td>\n",
       "      <td>0.9238</td>\n",
       "      <td>9</td>\n",
       "    </tr>\n",
       "    <tr>\n",
       "      <th>3</th>\n",
       "      <td>104</td>\n",
       "      <td>0.9238</td>\n",
       "      <td>10</td>\n",
       "    </tr>\n",
       "    <tr>\n",
       "      <th>4</th>\n",
       "      <td>112</td>\n",
       "      <td>0.9238</td>\n",
       "      <td>12</td>\n",
       "    </tr>\n",
       "    <tr>\n",
       "      <th>5</th>\n",
       "      <td>120</td>\n",
       "      <td>0.9238</td>\n",
       "      <td>14</td>\n",
       "    </tr>\n",
       "    <tr>\n",
       "      <th>6</th>\n",
       "      <td>128</td>\n",
       "      <td>0.9238</td>\n",
       "      <td>17</td>\n",
       "    </tr>\n",
       "    <tr>\n",
       "      <th>7</th>\n",
       "      <td>136</td>\n",
       "      <td>0.9238</td>\n",
       "      <td>20</td>\n",
       "    </tr>\n",
       "    <tr>\n",
       "      <th>8</th>\n",
       "      <td>144</td>\n",
       "      <td>0.9238</td>\n",
       "      <td>21</td>\n",
       "    </tr>\n",
       "    <tr>\n",
       "      <th>9</th>\n",
       "      <td>152</td>\n",
       "      <td>0.9238</td>\n",
       "      <td>23</td>\n",
       "    </tr>\n",
       "    <tr>\n",
       "      <th>10</th>\n",
       "      <td>160</td>\n",
       "      <td>0.9238</td>\n",
       "      <td>25</td>\n",
       "    </tr>\n",
       "    <tr>\n",
       "      <th>11</th>\n",
       "      <td>168</td>\n",
       "      <td>0.9238</td>\n",
       "      <td>29</td>\n",
       "    </tr>\n",
       "    <tr>\n",
       "      <th>12</th>\n",
       "      <td>176</td>\n",
       "      <td>0.9238</td>\n",
       "      <td>30</td>\n",
       "    </tr>\n",
       "    <tr>\n",
       "      <th>13</th>\n",
       "      <td>184</td>\n",
       "      <td>0.9238</td>\n",
       "      <td>34</td>\n",
       "    </tr>\n",
       "    <tr>\n",
       "      <th>14</th>\n",
       "      <td>192</td>\n",
       "      <td>0.9238</td>\n",
       "      <td>36</td>\n",
       "    </tr>\n",
       "    <tr>\n",
       "      <th>15</th>\n",
       "      <td>200</td>\n",
       "      <td>0.9238</td>\n",
       "      <td>41</td>\n",
       "    </tr>\n",
       "    <tr>\n",
       "      <th>16</th>\n",
       "      <td>208</td>\n",
       "      <td>0.9238</td>\n",
       "      <td>44</td>\n",
       "    </tr>\n",
       "    <tr>\n",
       "      <th>17</th>\n",
       "      <td>216</td>\n",
       "      <td>0.9238</td>\n",
       "      <td>48</td>\n",
       "    </tr>\n",
       "    <tr>\n",
       "      <th>18</th>\n",
       "      <td>224</td>\n",
       "      <td>0.9238</td>\n",
       "      <td>52</td>\n",
       "    </tr>\n",
       "  </tbody>\n",
       "</table>\n",
       "</div>"
      ],
      "text/plain": [
       "    image_size  accuracy  training_time_in_sec\n",
       "0           80    0.9238                     6\n",
       "1           88    0.9238                     8\n",
       "2           96    0.9238                     9\n",
       "3          104    0.9238                    10\n",
       "4          112    0.9238                    12\n",
       "5          120    0.9238                    14\n",
       "6          128    0.9238                    17\n",
       "7          136    0.9238                    20\n",
       "8          144    0.9238                    21\n",
       "9          152    0.9238                    23\n",
       "10         160    0.9238                    25\n",
       "11         168    0.9238                    29\n",
       "12         176    0.9238                    30\n",
       "13         184    0.9238                    34\n",
       "14         192    0.9238                    36\n",
       "15         200    0.9238                    41\n",
       "16         208    0.9238                    44\n",
       "17         216    0.9238                    48\n",
       "18         224    0.9238                    52"
      ]
     },
     "execution_count": 63,
     "metadata": {},
     "output_type": "execute_result"
    }
   ],
   "source": [
    "#printing out the accuracy for every size, along with training time\n",
    "svm_accuracy"
   ]
  },
  {
   "cell_type": "code",
   "execution_count": 64,
   "id": "389b2f98",
   "metadata": {},
   "outputs": [
    {
     "data": {
      "text/plain": [
       "array([<AxesSubplot:xlabel='Image Sizes (80-224)'>,\n",
       "       <AxesSubplot:xlabel='Image Sizes (80-224)'>], dtype=object)"
      ]
     },
     "execution_count": 64,
     "metadata": {},
     "output_type": "execute_result"
    },
    {
     "data": {
      "image/png": "[encoded data removed]",
      "text/plain": [
       "<Figure size 576x288 with 2 Axes>"
      ]
     },
     "metadata": {
      "needs_background": "light"
     },
     "output_type": "display_data"
    }
   ],
   "source": [
    "#plotting the graphs to get a clearer picture\n",
    "svm_accuracy.plot(rot=0, grid=True, style=['o-','s:'], subplots=True, title = 'Accuracy Comparison with Image Sizes', x='image_size', figsize=(8, 4), xlabel='Image Sizes (80-224)')"
   ]
  },
  {
   "cell_type": "markdown",
   "id": "9b5e1e7f",
   "metadata": {},
   "source": [
    "## 6.2 Training the models with image size threshold"
   ]
  },
  {
   "cell_type": "code",
   "execution_count": 70,
   "id": "f88719d6",
   "metadata": {},
   "outputs": [],
   "source": [
    "#choosing 2 of the 3 models proposed\n",
    "dataset = load_dataset(classes, sub_dir_list[0], IMG_DEF_SIZE)\n",
    "training_dataset, testing_dataset = split_dataset(dataset)\n",
    "X_train, y_train = split_xy(NO_FEATURE, training_dataset)\n",
    "X_test, y_test = split_xy(NO_FEATURE, testing_dataset)"
   ]
  },
  {
   "cell_type": "code",
   "execution_count": 71,
   "id": "4bd3ff4d",
   "metadata": {},
   "outputs": [],
   "source": [
    "#getting results for SVM model\n",
    "svm_model, svm_time, svm_stime = train_model('svm', X_train, y_train)\n",
    "svm_score = round(svm_model.score(X_test, y_test), 4)"
   ]
  },
  {
   "cell_type": "code",
   "execution_count": 72,
   "id": "c8a2f264",
   "metadata": {},
   "outputs": [],
   "source": [
    "#getting results for RF model\n",
    "rf_model, rf_time, rf_stime = train_model('rf', X_train, y_train)\n",
    "rf_score = round(rf_model.score(X_test, y_test), 4)"
   ]
  },
  {
   "cell_type": "code",
   "execution_count": 73,
   "id": "def12e5a",
   "metadata": {},
   "outputs": [],
   "source": [
    "#getting results for KNN model\n",
    "knn_model, knn_time, knn_stime = train_model('knn', X_train, y_train)\n",
    "knn_score = round(knn_model.score(X_test, y_test), 4)"
   ]
  },
  {
   "cell_type": "code",
   "execution_count": 74,
   "id": "7f22924d",
   "metadata": {},
   "outputs": [],
   "source": [
    "#comparing accuracies for the models\n",
    "accuracy_raw_df = []\n",
    "\n",
    "accuracy_raw_df.append(['svm', svm_score, svm_time])\n",
    "accuracy_raw_df.append(['rf', rf_score, rf_time])\n",
    "accuracy_raw_df.append(['knn', knn_score, knn_time])\n",
    "\n",
    "accuracy_raw_df = pd.DataFrame(accuracy_raw_df,columns=['model_name','accuracy', 'training_time_in_sec'],index = None)"
   ]
  },
  {
   "cell_type": "code",
   "execution_count": 75,
   "id": "d569d02e",
   "metadata": {},
   "outputs": [
    {
     "data": {
      "text/html": [
       "<div>\n",
       "<style scoped>\n",
       "    .dataframe tbody tr th:only-of-type {\n",
       "        vertical-align: middle;\n",
       "    }\n",
       "\n",
       "    .dataframe tbody tr th {\n",
       "        vertical-align: top;\n",
       "    }\n",
       "\n",
       "    .dataframe thead th {\n",
       "        text-align: right;\n",
       "    }\n",
       "</style>\n",
       "<table border=\"1\" class=\"dataframe\">\n",
       "  <thead>\n",
       "    <tr style=\"text-align: right;\">\n",
       "      <th></th>\n",
       "      <th>model_name</th>\n",
       "      <th>accuracy</th>\n",
       "      <th>training_time_in_sec</th>\n",
       "    </tr>\n",
       "  </thead>\n",
       "  <tbody>\n",
       "    <tr>\n",
       "      <th>0</th>\n",
       "      <td>svm</td>\n",
       "      <td>0.9238</td>\n",
       "      <td>7</td>\n",
       "    </tr>\n",
       "    <tr>\n",
       "      <th>1</th>\n",
       "      <td>rf</td>\n",
       "      <td>0.9222</td>\n",
       "      <td>6</td>\n",
       "    </tr>\n",
       "    <tr>\n",
       "      <th>2</th>\n",
       "      <td>knn</td>\n",
       "      <td>0.8801</td>\n",
       "      <td>0</td>\n",
       "    </tr>\n",
       "  </tbody>\n",
       "</table>\n",
       "</div>"
      ],
      "text/plain": [
       "  model_name  accuracy  training_time_in_sec\n",
       "0        svm    0.9238                     7\n",
       "1         rf    0.9222                     6\n",
       "2        knn    0.8801                     0"
      ]
     },
     "execution_count": 75,
     "metadata": {},
     "output_type": "execute_result"
    }
   ],
   "source": [
    "#printing out accuracies for models, along with training time\n",
    "accuracy_raw_df"
   ]
  },
  {
   "cell_type": "code",
   "execution_count": 76,
   "id": "0b4d9a52",
   "metadata": {},
   "outputs": [
    {
     "data": {
      "text/plain": [
       "array([<AxesSubplot:xlabel='Name of the model'>,\n",
       "       <AxesSubplot:xlabel='Name of the model'>], dtype=object)"
      ]
     },
     "execution_count": 76,
     "metadata": {},
     "output_type": "execute_result"
    },
    {
     "data": {
      "image/png": "[encoded data removed]",
      "text/plain": [
       "<Figure size 576x288 with 2 Axes>"
      ]
     },
     "metadata": {
      "needs_background": "light"
     },
     "output_type": "display_data"
    }
   ],
   "source": [
    "#plotting the graphs to get a clearer picture\n",
    "accuracy_raw_df.plot.line(rot=0, grid=True, style=['o-','s:'], subplots = True, title = 'Accuracy Comparison for Potential models', x='model_name', figsize=(8 ,4), xlabel='Name of the model')"
   ]
  },
  {
   "cell_type": "markdown",
   "id": "5479ecf6",
   "metadata": {},
   "source": [
    "# 7. Preparing training and testing data for selected models"
   ]
  },
  {
   "cell_type": "markdown",
   "id": "3ae9382b",
   "metadata": {},
   "source": [
    "## 7.1 Loading the datasets"
   ]
  },
  {
   "cell_type": "code",
   "execution_count": 77,
   "id": "c25b90da",
   "metadata": {},
   "outputs": [
    {
     "name": "stdout",
     "output_type": "stream",
     "text": [
      "['CLOSED_EYES', 'OPEN_EYES']\n"
     ]
    }
   ],
   "source": [
    "#defining classes for training data i.e., eye-state feature\n",
    "classes = [f'{CLOSED_DIR}', f'{OPEN_DIR}']\n",
    "print(classes)"
   ]
  },
  {
   "cell_type": "code",
   "execution_count": 78,
   "id": "d756d721",
   "metadata": {},
   "outputs": [],
   "source": [
    "#loading all the images in training datasets i.e., PART_1, PART_2, PART_3 etc.\n",
    "dataset_part1 = load_dataset(classes, sub_dir_list[0], IMG_DEF_SIZE)\n",
    "dataset_part2 = load_dataset(classes, sub_dir_list[1], IMG_DEF_SIZE)\n",
    "dataset_part3 = load_dataset(classes, sub_dir_list[2], IMG_DEF_SIZE)"
   ]
  },
  {
   "cell_type": "code",
   "execution_count": 79,
   "id": "ad650ca5",
   "metadata": {},
   "outputs": [
    {
     "name": "stdout",
     "output_type": "stream",
     "text": [
      "Number of images in dataset-1 are: 2055\n",
      "Number of images in dataset-2 are: 2055\n",
      "Number of images in dataset-3 are: 2055\n"
     ]
    }
   ],
   "source": [
    "#checking the count for images in datasets\n",
    "print('Number of images in dataset-1 are: '+str(len(dataset_part1)))\n",
    "print('Number of images in dataset-2 are: '+str(len(dataset_part2)))\n",
    "print('Number of images in dataset-3 are: '+str(len(dataset_part3)))"
   ]
  },
  {
   "cell_type": "markdown",
   "id": "d5b8b99b",
   "metadata": {},
   "source": [
    "## 7.2 Splitting the datasets into training and testing"
   ]
  },
  {
   "cell_type": "code",
   "execution_count": 80,
   "id": "6a28f924",
   "metadata": {},
   "outputs": [],
   "source": [
    "#splitting all the dataset into training i.e., 70% and testing data i.e., 30%\n",
    "training_dataset_part1, testing_dataset_part1 = split_dataset(dataset_part1)\n",
    "training_dataset_part2, testing_dataset_part2 = split_dataset(dataset_part2)\n",
    "training_dataset_part3, testing_dataset_part3 = split_dataset(dataset_part3)"
   ]
  },
  {
   "cell_type": "code",
   "execution_count": 81,
   "id": "0e9e417b",
   "metadata": {},
   "outputs": [
    {
     "name": "stdout",
     "output_type": "stream",
     "text": [
      "In dataset 1, training samples are: 1438 and testing samples are: 617\n",
      "In dataset 2, training samples are: 1438 and testing samples are: 617\n",
      "In dataset 3, training samples are: 1438 and testing samples are: 617\n"
     ]
    }
   ],
   "source": [
    "#printing the count for train and test split for each dataset\n",
    "print(f'In dataset 1, training samples are: {training_dataset_part1.shape[0]} and testing samples are: {testing_dataset_part1.shape[0]}')\n",
    "print(f'In dataset 2, training samples are: {training_dataset_part2.shape[0]} and testing samples are: {testing_dataset_part2.shape[0]}')\n",
    "print(f'In dataset 3, training samples are: {training_dataset_part3.shape[0]} and testing samples are: {testing_dataset_part3.shape[0]}')"
   ]
  },
  {
   "cell_type": "markdown",
   "id": "48cacad4",
   "metadata": {},
   "source": [
    "## 7.3 Splitting further into X_train, y_train, X_test and y_test"
   ]
  },
  {
   "cell_type": "markdown",
   "id": "d5f818a1",
   "metadata": {},
   "source": [
    "### 7.3.1 No feature extraction or description i.e., Raw Pixel Approach"
   ]
  },
  {
   "cell_type": "code",
   "execution_count": 82,
   "id": "d41f6cec",
   "metadata": {},
   "outputs": [],
   "source": [
    "#preparing X_train and y_train from the training data - no feature extraction\n",
    "X_train_part1, y_train_part1 = split_xy(NO_FEATURE, training_dataset_part1)\n",
    "X_train_part2, y_train_part2 = split_xy(NO_FEATURE, training_dataset_part2)\n",
    "X_train_part3, y_train_part3 = split_xy(NO_FEATURE, training_dataset_part3)\n",
    "\n",
    "#preparing X_test and y_test from the testing data - no feature extraction\n",
    "X_test_part1, y_test_part1 = split_xy(NO_FEATURE, testing_dataset_part1)\n",
    "X_test_part2, y_test_part2 = split_xy(NO_FEATURE, testing_dataset_part2)\n",
    "X_test_part3, y_test_part3 = split_xy(NO_FEATURE, testing_dataset_part3)"
   ]
  },
  {
   "cell_type": "markdown",
   "id": "71963086",
   "metadata": {},
   "source": [
    "### 7.3.2 Features from Accelerated Segment Test (FAST)"
   ]
  },
  {
   "cell_type": "code",
   "execution_count": 83,
   "id": "57e2c4f0",
   "metadata": {},
   "outputs": [
    {
     "name": "stderr",
     "output_type": "stream",
     "text": [
      "<ipython-input-60-c2112a63effa>:31: VisibleDeprecationWarning: Creating an ndarray from ragged nested sequences (which is a list-or-tuple of lists-or-tuples-or ndarrays with different lengths or shapes) is deprecated. If you meant to do this, you must specify 'dtype=object' when creating the ndarray.\n",
      "  X = np.vstack(np.array(X))\n"
     ]
    },
    {
     "ename": "ValueError",
     "evalue": "all the input array dimensions for the concatenation axis must match exactly, but along dimension 1, the array at index 0 has size 1 and the array at index 1 has size 32",
     "output_type": "error",
     "traceback": [
      "\u001b[1;31m---------------------------------------------------------------------------\u001b[0m",
      "\u001b[1;31mValueError\u001b[0m                                Traceback (most recent call last)",
      "\u001b[1;32m<ipython-input-83-e2b8f481efe2>\u001b[0m in \u001b[0;36m<module>\u001b[1;34m\u001b[0m\n\u001b[0;32m      1\u001b[0m \u001b[1;31m#preparing X_train and y_train from the training data - FAST\u001b[0m\u001b[1;33m\u001b[0m\u001b[1;33m\u001b[0m\u001b[1;33m\u001b[0m\u001b[0m\n\u001b[1;32m----> 2\u001b[1;33m \u001b[0mX_train_fs_part1\u001b[0m\u001b[1;33m,\u001b[0m \u001b[0my_train_fs_part1\u001b[0m \u001b[1;33m=\u001b[0m \u001b[0msplit_xy\u001b[0m\u001b[1;33m(\u001b[0m\u001b[0mFAST\u001b[0m\u001b[1;33m,\u001b[0m \u001b[0mtraining_dataset_part1\u001b[0m\u001b[1;33m)\u001b[0m\u001b[1;33m\u001b[0m\u001b[1;33m\u001b[0m\u001b[0m\n\u001b[0m\u001b[0;32m      3\u001b[0m \u001b[1;31m#X_train_fs_part2, y_train_fs_part2 = split_xy(FAST, training_dataset_part2)\u001b[0m\u001b[1;33m\u001b[0m\u001b[1;33m\u001b[0m\u001b[1;33m\u001b[0m\u001b[0m\n\u001b[0;32m      4\u001b[0m \u001b[1;31m#X_train_fs_part3, y_train_fs_part3 = split_xy(FAST, training_dataset_part3)\u001b[0m\u001b[1;33m\u001b[0m\u001b[1;33m\u001b[0m\u001b[1;33m\u001b[0m\u001b[0m\n\u001b[0;32m      5\u001b[0m \u001b[1;33m\u001b[0m\u001b[0m\n",
      "\u001b[1;32m<ipython-input-60-c2112a63effa>\u001b[0m in \u001b[0;36msplit_xy\u001b[1;34m(feature_label, dataset)\u001b[0m\n\u001b[0;32m     29\u001b[0m             \u001b[0my\u001b[0m\u001b[1;33m.\u001b[0m\u001b[0mappend\u001b[0m\u001b[1;33m(\u001b[0m\u001b[0mrow\u001b[0m\u001b[1;33m[\u001b[0m\u001b[1;34m\"label\"\u001b[0m\u001b[1;33m]\u001b[0m\u001b[1;33m)\u001b[0m\u001b[1;33m\u001b[0m\u001b[1;33m\u001b[0m\u001b[0m\n\u001b[0;32m     30\u001b[0m \u001b[1;33m\u001b[0m\u001b[0m\n\u001b[1;32m---> 31\u001b[1;33m         \u001b[0mX\u001b[0m \u001b[1;33m=\u001b[0m \u001b[0mnp\u001b[0m\u001b[1;33m.\u001b[0m\u001b[0mvstack\u001b[0m\u001b[1;33m(\u001b[0m\u001b[0mnp\u001b[0m\u001b[1;33m.\u001b[0m\u001b[0marray\u001b[0m\u001b[1;33m(\u001b[0m\u001b[0mX\u001b[0m\u001b[1;33m)\u001b[0m\u001b[1;33m)\u001b[0m\u001b[1;33m\u001b[0m\u001b[1;33m\u001b[0m\u001b[0m\n\u001b[0m\u001b[0;32m     32\u001b[0m \u001b[1;33m\u001b[0m\u001b[0m\n\u001b[0;32m     33\u001b[0m         \u001b[1;31m#normalizing image inputs\u001b[0m\u001b[1;33m\u001b[0m\u001b[1;33m\u001b[0m\u001b[1;33m\u001b[0m\u001b[0m\n",
      "\u001b[1;32m<__array_function__ internals>\u001b[0m in \u001b[0;36mvstack\u001b[1;34m(*args, **kwargs)\u001b[0m\n",
      "\u001b[1;32m~\\anaconda3\\envs\\prom02_env\\lib\\site-packages\\numpy\\core\\shape_base.py\u001b[0m in \u001b[0;36mvstack\u001b[1;34m(tup)\u001b[0m\n\u001b[0;32m    281\u001b[0m     \u001b[1;32mif\u001b[0m \u001b[1;32mnot\u001b[0m \u001b[0misinstance\u001b[0m\u001b[1;33m(\u001b[0m\u001b[0marrs\u001b[0m\u001b[1;33m,\u001b[0m \u001b[0mlist\u001b[0m\u001b[1;33m)\u001b[0m\u001b[1;33m:\u001b[0m\u001b[1;33m\u001b[0m\u001b[1;33m\u001b[0m\u001b[0m\n\u001b[0;32m    282\u001b[0m         \u001b[0marrs\u001b[0m \u001b[1;33m=\u001b[0m \u001b[1;33m[\u001b[0m\u001b[0marrs\u001b[0m\u001b[1;33m]\u001b[0m\u001b[1;33m\u001b[0m\u001b[1;33m\u001b[0m\u001b[0m\n\u001b[1;32m--> 283\u001b[1;33m     \u001b[1;32mreturn\u001b[0m \u001b[0m_nx\u001b[0m\u001b[1;33m.\u001b[0m\u001b[0mconcatenate\u001b[0m\u001b[1;33m(\u001b[0m\u001b[0marrs\u001b[0m\u001b[1;33m,\u001b[0m \u001b[1;36m0\u001b[0m\u001b[1;33m)\u001b[0m\u001b[1;33m\u001b[0m\u001b[1;33m\u001b[0m\u001b[0m\n\u001b[0m\u001b[0;32m    284\u001b[0m \u001b[1;33m\u001b[0m\u001b[0m\n\u001b[0;32m    285\u001b[0m \u001b[1;33m\u001b[0m\u001b[0m\n",
      "\u001b[1;32m<__array_function__ internals>\u001b[0m in \u001b[0;36mconcatenate\u001b[1;34m(*args, **kwargs)\u001b[0m\n",
      "\u001b[1;31mValueError\u001b[0m: all the input array dimensions for the concatenation axis must match exactly, but along dimension 1, the array at index 0 has size 1 and the array at index 1 has size 32"
     ]
    }
   ],
   "source": [
    "#preparing X_train and y_train from the training data - FAST\n",
    "X_train_fs_part1, y_train_fs_part1 = split_xy(FAST, training_dataset_part1)\n",
    "#X_train_fs_part2, y_train_fs_part2 = split_xy(FAST, training_dataset_part2)\n",
    "#X_train_fs_part3, y_train_fs_part3 = split_xy(FAST, training_dataset_part3)\n",
    "\n",
    "#preparing X_test and y_test from the testing data - FAST\n",
    "X_test_fs_part1, y_test_fs_part1 = split_xy(FAST, testing_dataset_part1)\n",
    "#X_test_fs_part2, y_test_fs_part2 = split_xy(FAST, testing_dataset_part2)\n",
    "#X_test_fs_part3, y_test_fs_part3 = split_xy(FAST, testing_dataset_part3)"
   ]
  },
  {
   "cell_type": "markdown",
   "id": "89ff9f67",
   "metadata": {},
   "source": [
    "### 7.3.3 Harris Corner"
   ]
  },
  {
   "cell_type": "code",
   "execution_count": 84,
   "id": "1902c675",
   "metadata": {},
   "outputs": [],
   "source": [
    "#preparing X_train and y_train from the training data - Harris Corner\n",
    "X_train_hc_part1, y_train_hc_part1 = split_xy(HARRIS, training_dataset_part1)\n",
    "X_train_hc_part2, y_train_hc_part2 = split_xy(HARRIS, training_dataset_part2)\n",
    "X_train_hc_part3, y_train_hc_part3 = split_xy(HARRIS, training_dataset_part3)\n",
    "\n",
    "#preparing X_test and y_test from the testing data - Harris Corner\n",
    "X_test_hc_part1, y_test_hc_part1 = split_xy(HARRIS, testing_dataset_part1)\n",
    "X_test_hc_part2, y_test_hc_part2 = split_xy(HARRIS, testing_dataset_part2)\n",
    "X_test_hc_part3, y_test_hc_part3 = split_xy(HARRIS, testing_dataset_part3)"
   ]
  },
  {
   "cell_type": "markdown",
   "id": "44c16d6f",
   "metadata": {},
   "source": [
    "### 7.3.4 Histogram of Oriented Gradients (HOG)"
   ]
  },
  {
   "cell_type": "code",
   "execution_count": 85,
   "id": "00c6b18b",
   "metadata": {},
   "outputs": [],
   "source": [
    "#preparing X_train and y_train from the training data\n",
    "X_train_hg_part1, y_train_hg_part1 = split_xy(HOG, training_dataset_part1)\n",
    "X_train_hg_part2, y_train_hg_part2 = split_xy(HOG, training_dataset_part2)\n",
    "X_train_hg_part3, y_train_hg_part3 = split_xy(HOG, training_dataset_part3)\n",
    "\n",
    "#preparing X_test and y_test from the testing data\n",
    "X_test_hg_part1, y_test_hg_part1 = split_xy(HOG, testing_dataset_part1)\n",
    "X_test_hg_part2, y_test_hg_part2 = split_xy(HOG, testing_dataset_part2)\n",
    "X_test_hg_part3, y_test_hg_part3 = split_xy(HOG, testing_dataset_part3)"
   ]
  },
  {
   "cell_type": "markdown",
   "id": "2e5381e8",
   "metadata": {},
   "source": [
    "# 8. Training various models with the dataset(s)"
   ]
  },
  {
   "cell_type": "markdown",
   "id": "c04c657f",
   "metadata": {},
   "source": [
    "## 8.1 No feature extraction or description i.e., Raw Pixel Approach"
   ]
  },
  {
   "cell_type": "markdown",
   "id": "d94f1960",
   "metadata": {},
   "source": [
    "### 8.1.1 Support Vector Machine (SVM)"
   ]
  },
  {
   "cell_type": "code",
   "execution_count": 122,
   "id": "f5dbb1ed",
   "metadata": {},
   "outputs": [],
   "source": [
    "svm_model_part1, svm_time_part1, svm_stime_part1 = train_model('svm', X_train_part1, y_train_part1)\n",
    "svm_model_part2, svm_time_part2, svm_stime_part2 = train_model('svm', X_train_part2, y_train_part2)\n",
    "svm_model_part3, svm_time_part3, svm_stime_part3 = train_model('svm', X_train_part3, y_train_part3)"
   ]
  },
  {
   "cell_type": "code",
   "execution_count": 123,
   "id": "03144818",
   "metadata": {},
   "outputs": [],
   "source": [
    "svm_score_part1 = svm_model_part1.score(X_test_part1, y_test_part1)\n",
    "svm_score_part2 = svm_model_part2.score(X_test_part2, y_test_part2)\n",
    "svm_score_part3 = svm_model_part3.score(X_test_part3, y_test_part3)"
   ]
  },
  {
   "cell_type": "code",
   "execution_count": 124,
   "id": "6436a6e8",
   "metadata": {},
   "outputs": [
    {
     "name": "stdout",
     "output_type": "stream",
     "text": [
      "0.9238249594813615\n",
      "0.893030794165316\n",
      "0.9108589951377634\n",
      "00:00:42\n",
      "00:00:43\n",
      "00:00:46\n"
     ]
    }
   ],
   "source": [
    "print(svm_score_part1)\n",
    "print(svm_score_part2)\n",
    "print(svm_score_part3)\n",
    "\n",
    "print(svm_stime_part1)\n",
    "print(svm_stime_part2)\n",
    "print(svm_stime_part3)"
   ]
  },
  {
   "cell_type": "markdown",
   "id": "89bc2e56",
   "metadata": {},
   "source": [
    "### 8.1.2 Random Forests (RF)"
   ]
  },
  {
   "cell_type": "code",
   "execution_count": 89,
   "id": "0950d07b",
   "metadata": {},
   "outputs": [],
   "source": [
    "rf_model_part1, rf_time_part1, rf_stime_part1 = train_model('rf', X_train_part1, y_train_part1)\n",
    "rf_model_part2, rf_time_part2, rf_stime_part2 = train_model('rf', X_train_part2, y_train_part2)\n",
    "rf_model_part3, rf_time_part3, rf_stime_part3 = train_model('rf', X_train_part3, y_train_part3)"
   ]
  },
  {
   "cell_type": "code",
   "execution_count": 90,
   "id": "49f24048",
   "metadata": {},
   "outputs": [],
   "source": [
    "rf_score_part1 = rf_model_part1.score(X_test_part1, y_test_part1)\n",
    "rf_score_part2 = rf_model_part2.score(X_test_part2, y_test_part2)\n",
    "rf_score_part3 = rf_model_part3.score(X_test_part3, y_test_part3)"
   ]
  },
  {
   "cell_type": "code",
   "execution_count": 91,
   "id": "52eed935",
   "metadata": {},
   "outputs": [
    {
     "name": "stdout",
     "output_type": "stream",
     "text": [
      "0.9189627228525121\n",
      "0.9157212317666127\n",
      "0.9367909238249594\n",
      "00:00:05\n",
      "00:00:05\n",
      "00:00:06\n"
     ]
    }
   ],
   "source": [
    "print(rf_score_part1)\n",
    "print(rf_score_part2)\n",
    "print(rf_score_part3)\n",
    "\n",
    "print(rf_stime_part1)\n",
    "print(rf_stime_part2)\n",
    "print(rf_stime_part3)"
   ]
  },
  {
   "cell_type": "markdown",
   "id": "262af5db",
   "metadata": {},
   "source": [
    "## 8.2 Features from Accelerated Segment Test (FAST)"
   ]
  },
  {
   "cell_type": "markdown",
   "id": "e0c0f144",
   "metadata": {},
   "source": [
    "### 8.2.1 Support Vector Machine (SVM)"
   ]
  },
  {
   "cell_type": "code",
   "execution_count": null,
   "id": "abae37f4",
   "metadata": {},
   "outputs": [],
   "source": [
    "svm_model_fs_part1, svm_time_fs_part1, svm_stime_fs_part1 = train_model('svm', X_train_fs_part1, y_train_fs_part1)\n",
    "#svm_model_fs_part2, svm_time_fs_part2, svm_stime_fs_part2 = train_model('svm', X_train_fs_part2, y_train_fs_part2)\n",
    "#svm_model_fs_part3, svm_time_fs_part3, svm_stime_fs_part3 = train_model('svm', X_train_fs_part3, y_train_fs_part3)"
   ]
  },
  {
   "cell_type": "code",
   "execution_count": null,
   "id": "3adbb0c1",
   "metadata": {},
   "outputs": [],
   "source": [
    "y_pred_svm_fs_part1 = svm_model_fs_part1.predict(X_test_fs_part1)\n",
    "#y_pred_svm_fs_part2 = svm_model_fs_part2.predict(X_test_fs_part2)\n",
    "#y_pred_svm_fs_part3 = svm_model_fs_part3.predict(X_test_fs_part3)"
   ]
  },
  {
   "cell_type": "code",
   "execution_count": null,
   "id": "7e7bc367",
   "metadata": {},
   "outputs": [],
   "source": [
    "print(svm_score_fs_part1)\n",
    "#print(svm_score_fs_part2)\n",
    "#print(svm_score_fs_part3)\n",
    "\n",
    "print(svm_stime_fs_part1)\n",
    "#print(svm_stime_fs_part2)\n",
    "#print(svm_stime_fs_part3)"
   ]
  },
  {
   "cell_type": "markdown",
   "id": "58ee4832",
   "metadata": {},
   "source": [
    "### 8.2.2 Random Forests (RF)"
   ]
  },
  {
   "cell_type": "code",
   "execution_count": null,
   "id": "55766174",
   "metadata": {},
   "outputs": [],
   "source": [
    "rf_model_fs_part1, rf_time_fs_part1, rf_stime_fs_part1 = train_model('rf', X_train_fs_part1, y_train_fs_part1)\n",
    "#rf_model_fs_part2, rf_time_fs_part2, rf_stime_fs_part2 = train_model('rf', X_train_fs_part2, y_train_fs_part2)\n",
    "#rf_model_fs_part3, rf_time_fs_part3, rf_stime_fs_part3 = train_model('rf', X_train_fs_part3, y_train_fs_part3)"
   ]
  },
  {
   "cell_type": "code",
   "execution_count": null,
   "id": "272ece3e",
   "metadata": {},
   "outputs": [],
   "source": [
    "y_pred_rf_fs_part1 = rf_model_fs_part1.predict(X_test_fs_part1)\n",
    "#y_pred_rf_fs_part2 = rf_model_fs_part2.predict(X_test_fs_part2)\n",
    "#y_pred_rf_fs_part3 = rf_model_fs_part3.predict(X_test_fs_part3)"
   ]
  },
  {
   "cell_type": "code",
   "execution_count": null,
   "id": "094db7cd",
   "metadata": {},
   "outputs": [],
   "source": [
    "print(rf_score_fs_part1)\n",
    "#print(rf_score_fs_part2)\n",
    "#print(rf_score_fs_part3)\n",
    "\n",
    "print(rf_stime_fs_part1)\n",
    "#print(rf_stime_fs_part2)\n",
    "#print(rf_stime_fs_part3)"
   ]
  },
  {
   "cell_type": "markdown",
   "id": "6f8af986",
   "metadata": {},
   "source": [
    "## 8.3 Harris Corner"
   ]
  },
  {
   "cell_type": "markdown",
   "id": "a574e1e7",
   "metadata": {},
   "source": [
    "### 8.3.1 Support Vector Machine (SVM)"
   ]
  },
  {
   "cell_type": "code",
   "execution_count": 125,
   "id": "e45d1f41",
   "metadata": {},
   "outputs": [],
   "source": [
    "svm_model_hc_part1, svm_time_hc_part1, svm_stime_hc_part1 = train_model('svm', X_train_hc_part1, y_train_hc_part1)\n",
    "svm_model_hc_part2, svm_time_hc_part2, svm_stime_hc_part2 = train_model('svm', X_train_hc_part2, y_train_hc_part2)\n",
    "svm_model_hc_part3, svm_time_hc_part3, svm_stime_hc_part3 = train_model('svm', X_train_hc_part3, y_train_hc_part3)"
   ]
  },
  {
   "cell_type": "code",
   "execution_count": 126,
   "id": "a274a246",
   "metadata": {},
   "outputs": [],
   "source": [
    "svm_score_hc_part1 = svm_model_hc_part1.score(X_test_hc_part1, y_test_hc_part1)\n",
    "svm_score_hc_part2 = svm_model_hc_part2.score(X_test_hc_part2, y_test_hc_part2)\n",
    "svm_score_hc_part3 = svm_model_hc_part3.score(X_test_hc_part3, y_test_hc_part3)"
   ]
  },
  {
   "cell_type": "code",
   "execution_count": 127,
   "id": "2b436c8e",
   "metadata": {},
   "outputs": [
    {
     "name": "stdout",
     "output_type": "stream",
     "text": [
      "0.6272285251215559\n",
      "0.6337115072933549\n",
      "0.6272285251215559\n",
      "00:00:28\n",
      "00:00:30\n",
      "00:00:29\n"
     ]
    }
   ],
   "source": [
    "print(svm_score_hc_part1)\n",
    "print(svm_score_hc_part2)\n",
    "print(svm_score_hc_part3)\n",
    "\n",
    "print(svm_stime_hc_part1)\n",
    "print(svm_stime_hc_part2)\n",
    "print(svm_stime_hc_part3)"
   ]
  },
  {
   "cell_type": "markdown",
   "id": "3e8e1b3b",
   "metadata": {},
   "source": [
    "### 8.3.2 Random Forests (RF)"
   ]
  },
  {
   "cell_type": "code",
   "execution_count": 97,
   "id": "b95581ff",
   "metadata": {},
   "outputs": [],
   "source": [
    "rf_model_hc_part1, rf_time_hc_part1, rf_stime_hc_part1 = train_model('rf', X_train_hc_part1, y_train_hc_part1)\n",
    "rf_model_hc_part2, rf_time_hc_part2, rf_stime_hc_part2 = train_model('rf', X_train_hc_part2, y_train_hc_part2)\n",
    "rf_model_hc_part3, rf_time_hc_part3, rf_stime_hc_part3 = train_model('rf', X_train_hc_part3, y_train_hc_part3)"
   ]
  },
  {
   "cell_type": "code",
   "execution_count": 98,
   "id": "a7ffde1a",
   "metadata": {},
   "outputs": [],
   "source": [
    "rf_score_hc_part1 = rf_model_hc_part1.score(X_test_hc_part1, y_test_hc_part1)\n",
    "rf_score_hc_part2 = rf_model_hc_part2.score(X_test_hc_part2, y_test_hc_part2)\n",
    "rf_score_hc_part3 = rf_model_hc_part3.score(X_test_hc_part3, y_test_hc_part3)"
   ]
  },
  {
   "cell_type": "code",
   "execution_count": 99,
   "id": "ce766a9e",
   "metadata": {},
   "outputs": [
    {
     "name": "stdout",
     "output_type": "stream",
     "text": [
      "0.8314424635332253\n",
      "0.8606158833063209\n",
      "0.8525121555915721\n",
      "00:00:05\n",
      "00:00:05\n",
      "00:00:05\n"
     ]
    }
   ],
   "source": [
    "print(rf_score_hc_part1)\n",
    "print(rf_score_hc_part2)\n",
    "print(rf_score_hc_part3)\n",
    "\n",
    "print(rf_stime_hc_part1)\n",
    "print(rf_stime_hc_part2)\n",
    "print(rf_stime_hc_part3)"
   ]
  },
  {
   "cell_type": "markdown",
   "id": "a7418817",
   "metadata": {},
   "source": [
    "## 8.4 Histogram of Oriented Gradients (HOG)"
   ]
  },
  {
   "cell_type": "markdown",
   "id": "990d139e",
   "metadata": {},
   "source": [
    "### 8.4.1 Support Vector Machine (SVM)"
   ]
  },
  {
   "cell_type": "code",
   "execution_count": 128,
   "id": "2a6e0217",
   "metadata": {},
   "outputs": [],
   "source": [
    "svm_model_hg_part1, svm_time_hg_part1, svm_stime_hg_part1 = train_model('svm', X_train_hg_part1, y_train_hg_part1)\n",
    "svm_model_hg_part2, svm_time_hg_part2, svm_stime_hg_part2 = train_model('svm', X_train_hg_part2, y_train_hg_part2)\n",
    "svm_model_hg_part3, svm_time_hg_part3, svm_stime_hg_part3 = train_model('svm', X_train_hg_part3, y_train_hg_part3)"
   ]
  },
  {
   "cell_type": "code",
   "execution_count": 129,
   "id": "fba3785f",
   "metadata": {},
   "outputs": [],
   "source": [
    "svm_score_hg_part1 = svm_model_hg_part1.score(X_test_hg_part1, y_test_hg_part1)\n",
    "svm_score_hg_part2 = svm_model_hg_part2.score(X_test_hg_part2, y_test_hg_part2)\n",
    "svm_score_hg_part3 = svm_model_hg_part3.score(X_test_hg_part3, y_test_hg_part3)"
   ]
  },
  {
   "cell_type": "code",
   "execution_count": 130,
   "id": "a32ded01",
   "metadata": {},
   "outputs": [
    {
     "name": "stdout",
     "output_type": "stream",
     "text": [
      "0.9497568881685575\n",
      "0.9513776337115073\n",
      "0.9481361426256077\n",
      "00:00:07\n",
      "00:00:08\n",
      "00:00:07\n"
     ]
    }
   ],
   "source": [
    "print(svm_score_hg_part1)\n",
    "print(svm_score_hg_part2)\n",
    "print(svm_score_hg_part3)\n",
    "\n",
    "print(svm_stime_hg_part1)\n",
    "print(svm_stime_hg_part2)\n",
    "print(svm_stime_hg_part3)"
   ]
  },
  {
   "cell_type": "markdown",
   "id": "a464bbfe",
   "metadata": {},
   "source": [
    "### 8.4.2 Random Forests (RF)"
   ]
  },
  {
   "cell_type": "code",
   "execution_count": 103,
   "id": "5eda8e76",
   "metadata": {},
   "outputs": [],
   "source": [
    "rf_model_hg_part1, rf_time_hg_part1, rf_stime_hg_part1 = train_model('rf', X_train_hg_part1, y_train_hg_part1)\n",
    "rf_model_hg_part2, rf_time_hg_part2, rf_stime_hg_part2 = train_model('rf', X_train_hg_part2, y_train_hg_part2)\n",
    "rf_model_hg_part3, rf_time_hg_part3, rf_stime_hg_part3 = train_model('rf', X_train_hg_part3, y_train_hg_part3)"
   ]
  },
  {
   "cell_type": "code",
   "execution_count": 104,
   "id": "873b6abd",
   "metadata": {},
   "outputs": [],
   "source": [
    "rf_score_hg_part1 = rf_model_hg_part1.score(X_test_hg_part1, y_test_hg_part1)\n",
    "rf_score_hg_part2 = rf_model_hg_part2.score(X_test_hg_part2, y_test_hg_part2)\n",
    "rf_score_hg_part3 = rf_model_hg_part3.score(X_test_hg_part3, y_test_hg_part3)"
   ]
  },
  {
   "cell_type": "code",
   "execution_count": 105,
   "id": "bb33e18b",
   "metadata": {},
   "outputs": [
    {
     "name": "stdout",
     "output_type": "stream",
     "text": [
      "0.9043760129659644\n",
      "0.9076175040518638\n",
      "0.9157212317666127\n",
      "00:00:02\n",
      "00:00:02\n",
      "00:00:02\n"
     ]
    }
   ],
   "source": [
    "print(rf_score_hg_part1)\n",
    "print(rf_score_hg_part2)\n",
    "print(rf_score_hg_part3)\n",
    "\n",
    "print(rf_stime_hg_part1)\n",
    "print(rf_stime_hg_part2)\n",
    "print(rf_stime_hg_part3)"
   ]
  },
  {
   "cell_type": "markdown",
   "id": "114b8d09",
   "metadata": {},
   "source": [
    "# 9. Comparing the performance against metrics"
   ]
  },
  {
   "cell_type": "markdown",
   "id": "b53d9aa0",
   "metadata": {},
   "source": [
    "## 9.1 Getting predictions and prediction probability for various models"
   ]
  },
  {
   "cell_type": "markdown",
   "id": "0c538746",
   "metadata": {},
   "source": [
    "### 9.1.1 No feature extraction or description i.e., Raw Pixel Approach"
   ]
  },
  {
   "cell_type": "markdown",
   "id": "071a788f",
   "metadata": {},
   "source": [
    "#### 9.1.1.1 Support Vector Machine (SVM)"
   ]
  },
  {
   "cell_type": "code",
   "execution_count": 131,
   "id": "005f3bda",
   "metadata": {},
   "outputs": [],
   "source": [
    "y_pred_svm_part1 = svm_model_part1.predict(X_test_part1)\n",
    "y_pred_svm_part2 = svm_model_part2.predict(X_test_part2)\n",
    "y_pred_svm_part3 = svm_model_part3.predict(X_test_part3)\n",
    "\n",
    "y_prob_svm_part1 = svm_model_part1.predict_proba(X_test_part1)\n",
    "y_prob_svm_part2 = svm_model_part2.predict_proba(X_test_part2)\n",
    "y_prob_svm_part3 = svm_model_part3.predict_proba(X_test_part3)"
   ]
  },
  {
   "cell_type": "markdown",
   "id": "f9aca7a3",
   "metadata": {},
   "source": [
    "#### 9.1.1.2 Random Forests (RF)"
   ]
  },
  {
   "cell_type": "code",
   "execution_count": 132,
   "id": "d086aac0",
   "metadata": {},
   "outputs": [],
   "source": [
    "y_pred_rf_part1 = rf_model_part1.predict(X_test_part1)\n",
    "y_pred_rf_part2 = rf_model_part2.predict(X_test_part2)\n",
    "y_pred_rf_part3 = rf_model_part3.predict(X_test_part3)\n",
    "\n",
    "y_prob_rf_part1 = rf_model_part1.predict_proba(X_test_part1)\n",
    "y_prob_rf_part2 = rf_model_part2.predict_proba(X_test_part2)\n",
    "y_prob_rf_part3 = rf_model_part3.predict_proba(X_test_part3)"
   ]
  },
  {
   "cell_type": "markdown",
   "id": "3d817b67",
   "metadata": {},
   "source": [
    "### 9.1.2 Features from Accelerated Segment Test (FAST)"
   ]
  },
  {
   "cell_type": "markdown",
   "id": "e8e69b36",
   "metadata": {},
   "source": [
    "#### 9.1.2.1 Support Vector Machine (SVM)"
   ]
  },
  {
   "cell_type": "code",
   "execution_count": 133,
   "id": "605df8d0",
   "metadata": {},
   "outputs": [],
   "source": [
    "#y_pred_svm_fs_part1 = svm_model_fs_part1.predict(X_test_fs_part1)\n",
    "#y_pred_svm_fs_part2 = svm_model_fs_part2.predict(X_test_fs_part2)\n",
    "#y_pred_svm_fs_part3 = svm_model_fs_part3.predict(X_test_fs_part3)\n",
    "\n",
    "#y_prob_svm_fs_part1 = svm_model_fs_part1.predict_proba(X_test_fs_part1)\n",
    "#y_prob_svm_fs_part2 = svm_model_fs_part2.predict_proba(X_test_fs_part2)\n",
    "#y_prob_svm_fs_part3 = svm_model_fs_part3.predict_proba(X_test_fs_part3)"
   ]
  },
  {
   "cell_type": "markdown",
   "id": "ce8d88ef",
   "metadata": {},
   "source": [
    "#### 9.1.2.2 Random Forests (RF)"
   ]
  },
  {
   "cell_type": "code",
   "execution_count": 134,
   "id": "d210b90a",
   "metadata": {},
   "outputs": [],
   "source": [
    "#y_pred_rf_fs_part1 = rf_model_fs_part1.predict(X_test_fs_part1)\n",
    "#y_pred_rf_fs_part2 = rf_model_fs_part2.predict(X_test_fs_part2)\n",
    "#y_pred_rf_fs_part3 = rf_model_fs_part3.predict(X_test_fs_part3)\n",
    "\n",
    "#y_prob_rf_fs_part1 = rf_model_fs_part1.predict_proba(X_test_fs_part1)\n",
    "#y_prob_rf_fs_part2 = rf_model_fs_part2.predict_proba(X_test_fs_part2)\n",
    "#y_prob_rf_fs_part3 = rf_model_fs_part3.predict_proba(X_test_fs_part3)"
   ]
  },
  {
   "cell_type": "markdown",
   "id": "a423da02",
   "metadata": {},
   "source": [
    "### 9.1.3 Harris Corner"
   ]
  },
  {
   "cell_type": "markdown",
   "id": "4cb77852",
   "metadata": {},
   "source": [
    "#### 9.1.3.1 Support Vector Machine (SVM)"
   ]
  },
  {
   "cell_type": "code",
   "execution_count": 135,
   "id": "a88af84b",
   "metadata": {},
   "outputs": [],
   "source": [
    "y_pred_svm_hc_part1 = svm_model_hc_part1.predict(X_test_hc_part1)\n",
    "y_pred_svm_hc_part2 = svm_model_hc_part2.predict(X_test_hc_part2)\n",
    "y_pred_svm_hc_part3 = svm_model_hc_part3.predict(X_test_hc_part3)\n",
    "\n",
    "y_prob_svm_hc_part1 = svm_model_hc_part1.predict_proba(X_test_hc_part1)\n",
    "y_prob_svm_hc_part2 = svm_model_hc_part2.predict_proba(X_test_hc_part2)\n",
    "y_prob_svm_hc_part3 = svm_model_hc_part3.predict_proba(X_test_hc_part3)"
   ]
  },
  {
   "cell_type": "markdown",
   "id": "1f1e6bcb",
   "metadata": {},
   "source": [
    "#### 9.1.3.2 Random Forests (RF)"
   ]
  },
  {
   "cell_type": "code",
   "execution_count": 136,
   "id": "115d5021",
   "metadata": {},
   "outputs": [],
   "source": [
    "y_pred_rf_hc_part1 = rf_model_hc_part1.predict(X_test_hc_part1)\n",
    "y_pred_rf_hc_part2 = rf_model_hc_part2.predict(X_test_hc_part2)\n",
    "y_pred_rf_hc_part3 = rf_model_hc_part3.predict(X_test_hc_part3)\n",
    "\n",
    "y_prob_rf_hc_part1 = rf_model_hc_part1.predict_proba(X_test_hc_part1)\n",
    "y_prob_rf_hc_part2 = rf_model_hc_part2.predict_proba(X_test_hc_part2)\n",
    "y_prob_rf_hc_part3 = rf_model_hc_part3.predict_proba(X_test_hc_part3)"
   ]
  },
  {
   "cell_type": "markdown",
   "id": "5af78b56",
   "metadata": {},
   "source": [
    "### 9.1.4 Histogram of Oriented Gradients (HOG)"
   ]
  },
  {
   "cell_type": "markdown",
   "id": "0677250e",
   "metadata": {},
   "source": [
    "#### 9.1.4.1 Support Vector Machine (SVM)"
   ]
  },
  {
   "cell_type": "code",
   "execution_count": 137,
   "id": "f75159a1",
   "metadata": {},
   "outputs": [],
   "source": [
    "y_pred_svm_hg_part1 = svm_model_hg_part1.predict(X_test_hg_part1)\n",
    "y_pred_svm_hg_part2 = svm_model_hg_part2.predict(X_test_hg_part2)\n",
    "y_pred_svm_hg_part3 = svm_model_hg_part3.predict(X_test_hg_part3)\n",
    "\n",
    "y_prob_svm_hg_part1 = svm_model_hg_part1.predict_proba(X_test_hg_part1)\n",
    "y_prob_svm_hg_part2 = svm_model_hg_part2.predict_proba(X_test_hg_part2)\n",
    "y_prob_svm_hg_part3 = svm_model_hg_part3.predict_proba(X_test_hg_part3)"
   ]
  },
  {
   "cell_type": "markdown",
   "id": "bf849eb9",
   "metadata": {},
   "source": [
    "#### 9.1.4.2 Random Forests (RF)"
   ]
  },
  {
   "cell_type": "code",
   "execution_count": 138,
   "id": "be409304",
   "metadata": {},
   "outputs": [],
   "source": [
    "y_pred_rf_hg_part1 = rf_model_hg_part1.predict(X_test_hg_part1)\n",
    "y_pred_rf_hg_part2 = rf_model_hg_part2.predict(X_test_hg_part2)\n",
    "y_pred_rf_hg_part3 = rf_model_hg_part3.predict(X_test_hg_part3)\n",
    "\n",
    "y_prob_rf_hg_part1 = rf_model_hg_part1.predict_proba(X_test_hg_part1)\n",
    "y_prob_rf_hg_part2 = rf_model_hg_part2.predict_proba(X_test_hg_part2)\n",
    "y_prob_rf_hg_part3 = rf_model_hg_part3.predict_proba(X_test_hg_part3)"
   ]
  },
  {
   "cell_type": "markdown",
   "id": "05d37b16",
   "metadata": {},
   "source": [
    "## 9.2 Calculating metric scores for each model"
   ]
  },
  {
   "cell_type": "markdown",
   "id": "beab9e5e",
   "metadata": {},
   "source": [
    "### 9.2.1 Accuracy Score"
   ]
  },
  {
   "cell_type": "code",
   "execution_count": 139,
   "id": "b07cac05",
   "metadata": {},
   "outputs": [],
   "source": [
    "##No feature extraction or description i.e., Raw Pixel Approach\n",
    "#Support Vector Machine (SVM)\n",
    "svm_acc_part1 = accuracy_score(y_test_part1, y_pred_svm_part1)\n",
    "svm_acc_part2 = accuracy_score(y_test_part2, y_pred_svm_part2)\n",
    "svm_acc_part3 = accuracy_score(y_test_part3, y_pred_svm_part3)\n",
    "\n",
    "#Random Forests (RF)\n",
    "rf_acc_part1 = accuracy_score(y_test_part1, y_pred_rf_part1)\n",
    "rf_acc_part2 = accuracy_score(y_test_part2, y_pred_rf_part2)\n",
    "rf_acc_part3 = accuracy_score(y_test_part3, y_pred_rf_part3)\n",
    "\n",
    "\n",
    "##Harris Corner\n",
    "#Support Vector Machine (SVM)\n",
    "svm_acc_hc_part1 = accuracy_score(y_test_hc_part1, y_pred_svm_hc_part1)\n",
    "svm_acc_hc_part2 = accuracy_score(y_test_hc_part2, y_pred_svm_hc_part2)\n",
    "svm_acc_hc_part3 = accuracy_score(y_test_hc_part3, y_pred_svm_hc_part3)\n",
    "\n",
    "#Random Forests (RF)\n",
    "rf_acc_hc_part1 = accuracy_score(y_test_hc_part1, y_pred_rf_hc_part1)\n",
    "rf_acc_hc_part2 = accuracy_score(y_test_hc_part2, y_pred_rf_hc_part2)\n",
    "rf_acc_hc_part3 = accuracy_score(y_test_hc_part3, y_pred_rf_hc_part3)\n",
    "\n",
    "\n",
    "##Histogram of Oriented Gradients (HOG)\n",
    "#Support Vector Machine (SVM)\n",
    "svm_acc_hg_part1 = accuracy_score(y_test_hg_part1, y_pred_svm_hg_part1)\n",
    "svm_acc_hg_part2 = accuracy_score(y_test_hg_part2, y_pred_svm_hg_part2)\n",
    "svm_acc_hg_part3 = accuracy_score(y_test_hg_part3, y_pred_svm_hg_part3)\n",
    "\n",
    "#Random Forests (RF)\n",
    "rf_acc_hg_part1 = accuracy_score(y_test_hg_part1, y_pred_rf_hg_part1)\n",
    "rf_acc_hg_part2 = accuracy_score(y_test_hg_part2, y_pred_rf_hg_part2)\n",
    "rf_acc_hg_part3 = accuracy_score(y_test_hg_part3, y_pred_rf_hg_part3)"
   ]
  },
  {
   "cell_type": "markdown",
   "id": "7d29811b",
   "metadata": {},
   "source": [
    "### 9.2.2 Precision"
   ]
  },
  {
   "cell_type": "code",
   "execution_count": 140,
   "id": "8223eac7",
   "metadata": {},
   "outputs": [],
   "source": [
    "##No feature extraction or description i.e., Raw Pixel Approach\n",
    "#Support Vector Machine (SVM)\n",
    "svm_prs_part1 = precision_score(y_test_part1, y_pred_svm_part1)\n",
    "svm_prs_part2 = precision_score(y_test_part2, y_pred_svm_part2)\n",
    "svm_prs_part3 = precision_score(y_test_part3, y_pred_svm_part3)\n",
    "\n",
    "#Random Forests (RF)\n",
    "rf_prs_part1 = precision_score(y_test_part1, y_pred_rf_part1)\n",
    "rf_prs_part2 = precision_score(y_test_part2, y_pred_rf_part2)\n",
    "rf_prs_part3 = precision_score(y_test_part3, y_pred_rf_part3)\n",
    "\n",
    "\n",
    "##Harris Corner\n",
    "#Support Vector Machine (SVM)\n",
    "svm_prs_hc_part1 = precision_score(y_test_hc_part1, y_pred_svm_hc_part1)\n",
    "svm_prs_hc_part2 = precision_score(y_test_hc_part2, y_pred_svm_hc_part2)\n",
    "svm_prs_hc_part3 = precision_score(y_test_hc_part3, y_pred_svm_hc_part3)\n",
    "\n",
    "#Random Forests (RF)\n",
    "rf_prs_hc_part1 = precision_score(y_test_hc_part1, y_pred_rf_hc_part1)\n",
    "rf_prs_hc_part2 = precision_score(y_test_hc_part2, y_pred_rf_hc_part2)\n",
    "rf_prs_hc_part3 = precision_score(y_test_hc_part3, y_pred_rf_hc_part3)\n",
    "\n",
    "\n",
    "##Histogram of Oriented Gradients (HOG)\n",
    "#Support Vector Machine (SVM)\n",
    "svm_prs_hg_part1 = precision_score(y_test_hg_part1, y_pred_svm_hg_part1)\n",
    "svm_prs_hg_part2 = precision_score(y_test_hg_part2, y_pred_svm_hg_part2)\n",
    "svm_prs_hg_part3 = precision_score(y_test_hg_part3, y_pred_svm_hg_part3)\n",
    "\n",
    "#Random Forests (RF)\n",
    "rf_prs_hg_part1 = precision_score(y_test_hg_part1, y_pred_rf_hg_part1)\n",
    "rf_prs_hg_part2 = precision_score(y_test_hg_part2, y_pred_rf_hg_part2)\n",
    "rf_prs_hg_part3 = precision_score(y_test_hg_part3, y_pred_rf_hg_part3)"
   ]
  },
  {
   "cell_type": "markdown",
   "id": "fe20df68",
   "metadata": {},
   "source": [
    "### 9.2.3 F1-Score"
   ]
  },
  {
   "cell_type": "code",
   "execution_count": 141,
   "id": "b645391d",
   "metadata": {},
   "outputs": [],
   "source": [
    "##No feature extraction or description i.e., Raw Pixel Approach\n",
    "#Support Vector Machine (SVM)\n",
    "svm_f1_part1 = f1_score(y_test_part1, y_pred_svm_part1)\n",
    "svm_f1_part2 = f1_score(y_test_part2, y_pred_svm_part2)\n",
    "svm_f1_part3 = f1_score(y_test_part3, y_pred_svm_part3)\n",
    "\n",
    "#Random Forests (RF)\n",
    "rf_f1_part1 = f1_score(y_test_part1, y_pred_rf_part1)\n",
    "rf_f1_part2 = f1_score(y_test_part2, y_pred_rf_part2)\n",
    "rf_f1_part3 = f1_score(y_test_part3, y_pred_rf_part3)\n",
    "\n",
    "\n",
    "##Harris Corner\n",
    "#Support Vector Machine (SVM)\n",
    "svm_f1_hc_part1 = f1_score(y_test_hc_part1, y_pred_svm_hc_part1)\n",
    "svm_f1_hc_part2 = f1_score(y_test_hc_part2, y_pred_svm_hc_part2)\n",
    "svm_f1_hc_part3 = f1_score(y_test_hc_part3, y_pred_svm_hc_part3)\n",
    "\n",
    "#Random Forests (RF)\n",
    "rf_f1_hc_part1 = f1_score(y_test_hc_part1, y_pred_rf_hc_part1)\n",
    "rf_f1_hc_part2 = f1_score(y_test_hc_part2, y_pred_rf_hc_part2)\n",
    "rf_f1_hc_part3 = f1_score(y_test_hc_part3, y_pred_rf_hc_part3)\n",
    "\n",
    "\n",
    "##Histogram of Oriented Gradients (HOG)\n",
    "#Support Vector Machine (SVM)\n",
    "svm_f1_hg_part1 = f1_score(y_test_hg_part1, y_pred_svm_hg_part1)\n",
    "svm_f1_hg_part2 = f1_score(y_test_hg_part2, y_pred_svm_hg_part2)\n",
    "svm_f1_hg_part3 = f1_score(y_test_hg_part3, y_pred_svm_hg_part3)\n",
    "\n",
    "#Random Forests (RF)\n",
    "rf_f1_hg_part1 = f1_score(y_test_hg_part1, y_pred_rf_hg_part1)\n",
    "rf_f1_hg_part2 = f1_score(y_test_hg_part2, y_pred_rf_hg_part2)\n",
    "rf_f1_hg_part3 = f1_score(y_test_hg_part3, y_pred_rf_hg_part3)"
   ]
  },
  {
   "cell_type": "markdown",
   "id": "8273de9f",
   "metadata": {},
   "source": [
    "### 9.2.4 Recall"
   ]
  },
  {
   "cell_type": "code",
   "execution_count": 142,
   "id": "7080ea67",
   "metadata": {},
   "outputs": [],
   "source": [
    "##No feature extraction or description i.e., Raw Pixel Approach\n",
    "#Support Vector Machine (SVM)\n",
    "svm_rc_part1 = recall_score(y_test_part1, y_pred_svm_part1)\n",
    "svm_rc_part2 = recall_score(y_test_part2, y_pred_svm_part2)\n",
    "svm_rc_part3 = recall_score(y_test_part3, y_pred_svm_part3)\n",
    "\n",
    "#Random Forests (RF)\n",
    "rf_rc_part1 = recall_score(y_test_part1, y_pred_rf_part1)\n",
    "rf_rc_part2 = recall_score(y_test_part2, y_pred_rf_part2)\n",
    "rf_rc_part3 = recall_score(y_test_part3, y_pred_rf_part3)\n",
    "\n",
    "\n",
    "##Harris Corner\n",
    "#Support Vector Machine (SVM)\n",
    "svm_rc_hc_part1 = recall_score(y_test_hc_part1, y_pred_svm_hc_part1)\n",
    "svm_rc_hc_part2 = recall_score(y_test_hc_part2, y_pred_svm_hc_part2)\n",
    "svm_rc_hc_part3 = recall_score(y_test_hc_part3, y_pred_svm_hc_part3)\n",
    "\n",
    "#Random Forests (RF)\n",
    "rf_rc_hc_part1 = recall_score(y_test_hc_part1, y_pred_rf_hc_part1)\n",
    "rf_rc_hc_part2 = recall_score(y_test_hc_part2, y_pred_rf_hc_part2)\n",
    "rf_rc_hc_part3 = recall_score(y_test_hc_part3, y_pred_rf_hc_part3)\n",
    "\n",
    "\n",
    "##Histogram of Oriented Gradients (HOG)\n",
    "#Support Vector Machine (SVM)\n",
    "svm_rc_hg_part1 = recall_score(y_test_hg_part1, y_pred_svm_hg_part1)\n",
    "svm_rc_hg_part2 = recall_score(y_test_hg_part2, y_pred_svm_hg_part2)\n",
    "svm_rc_hg_part3 = recall_score(y_test_hg_part3, y_pred_svm_hg_part3)\n",
    "\n",
    "#Random Forests (RF)\n",
    "rf_rc_hg_part1 = recall_score(y_test_hg_part1, y_pred_rf_hg_part1)\n",
    "rf_rc_hg_part2 = recall_score(y_test_hg_part2, y_pred_rf_hg_part2)\n",
    "rf_rc_hg_part3 = recall_score(y_test_hg_part3, y_pred_rf_hg_part3)"
   ]
  },
  {
   "cell_type": "markdown",
   "id": "da750048",
   "metadata": {},
   "source": [
    "### 9.2.5 ROC_AUC"
   ]
  },
  {
   "cell_type": "code",
   "execution_count": 143,
   "id": "3aa016ae",
   "metadata": {},
   "outputs": [],
   "source": [
    "##No feature extraction or description i.e., Raw Pixel Approach\n",
    "#Support Vector Machine (SVM)\n",
    "svm_roc_part1 = roc_auc_score(y_test_part1, y_prob_svm_part1[:, 1])\n",
    "svm_roc_part2 = roc_auc_score(y_test_part2, y_prob_svm_part2[:, 1])\n",
    "svm_roc_part3 = roc_auc_score(y_test_part3, y_prob_svm_part3[:, 1])\n",
    "\n",
    "#Random Forests (RF)\n",
    "rf_roc_part1 = roc_auc_score(y_test_part1, y_prob_rf_part1[:, 1])\n",
    "rf_roc_part2 = roc_auc_score(y_test_part2, y_prob_rf_part2[:, 1])\n",
    "rf_roc_part3 = roc_auc_score(y_test_part3, y_prob_rf_part3[:, 1])\n",
    "\n",
    "\n",
    "##Harris Corner\n",
    "#Support Vector Machine (SVM)\n",
    "svm_roc_hc_part1 = roc_auc_score(y_test_hc_part1, y_prob_svm_hc_part1[:, 1])\n",
    "svm_roc_hc_part2 = roc_auc_score(y_test_hc_part2, y_prob_svm_hc_part2[:, 1])\n",
    "svm_roc_hc_part3 = roc_auc_score(y_test_hc_part3, y_prob_svm_hc_part3[:, 1])\n",
    "\n",
    "#Random Forests (RF)\n",
    "rf_roc_hc_part1 = roc_auc_score(y_test_hc_part1, y_prob_rf_hc_part1[:, 1])\n",
    "rf_roc_hc_part2 = roc_auc_score(y_test_hc_part2, y_prob_rf_hc_part2[:, 1])\n",
    "rf_roc_hc_part3 = roc_auc_score(y_test_hc_part3, y_prob_rf_hc_part3[:, 1])\n",
    "\n",
    "\n",
    "##Histogram of Oriented Gradients (HOG)\n",
    "#Support Vector Machine (SVM)\n",
    "svm_roc_hg_part1 = roc_auc_score(y_test_hg_part1, y_prob_svm_hg_part1[:, 1])\n",
    "svm_roc_hg_part2 = roc_auc_score(y_test_hg_part2, y_prob_svm_hg_part2[:, 1])\n",
    "svm_roc_hg_part3 = roc_auc_score(y_test_hg_part3, y_prob_svm_hg_part3[:, 1])\n",
    "\n",
    "#Random Forests (RF)\n",
    "rf_roc_hg_part1 = roc_auc_score(y_test_hg_part1, y_prob_rf_hg_part1[:, 1])\n",
    "rf_roc_hg_part2 = roc_auc_score(y_test_hg_part2, y_prob_rf_hg_part2[:, 1])\n",
    "rf_roc_hg_part3 = roc_auc_score(y_test_hg_part3, y_prob_rf_hg_part3[:, 1])"
   ]
  },
  {
   "cell_type": "markdown",
   "id": "25d316da",
   "metadata": {},
   "source": [
    "### 9.2.6 Confusion Matrix"
   ]
  },
  {
   "cell_type": "code",
   "execution_count": 144,
   "id": "c59cb083",
   "metadata": {},
   "outputs": [],
   "source": [
    "##No feature extraction or description i.e., Raw Pixel Approach\n",
    "#Support Vector Machine (SVM)\n",
    "svm_cf_part1 = confusion_matrix(y_test_part1, y_pred_svm_part1)\n",
    "svm_cf_part2 = confusion_matrix(y_test_part2, y_pred_svm_part2)\n",
    "svm_cf_part3 = confusion_matrix(y_test_part3, y_pred_svm_part3)\n",
    "\n",
    "#Random Forests (RF)\n",
    "rf_cf_part1 = confusion_matrix(y_test_part1, y_pred_rf_part1)\n",
    "rf_cf_part2 = confusion_matrix(y_test_part2, y_pred_rf_part2)\n",
    "rf_cf_part3 = confusion_matrix(y_test_part3, y_pred_rf_part3)\n",
    "\n",
    "\n",
    "##Harris Corner\n",
    "#Support Vector Machine (SVM)\n",
    "svm_cf_hc_part1 = confusion_matrix(y_test_hc_part1, y_pred_svm_hc_part1)\n",
    "svm_cf_hc_part2 = confusion_matrix(y_test_hc_part2, y_pred_svm_hc_part2)\n",
    "svm_cf_hc_part3 = confusion_matrix(y_test_hc_part3, y_pred_svm_hc_part3)\n",
    "\n",
    "#Random Forests (RF)\n",
    "rf_cf_hc_part1 = confusion_matrix(y_test_hc_part1, y_pred_rf_hc_part1)\n",
    "rf_cf_hc_part2 = confusion_matrix(y_test_hc_part2, y_pred_rf_hc_part2)\n",
    "rf_cf_hc_part3 = confusion_matrix(y_test_hc_part3, y_pred_rf_hc_part3)\n",
    "\n",
    "\n",
    "##Histogram of Oriented Gradients (HOG)\n",
    "#Support Vector Machine (SVM)\n",
    "svm_cf_hg_part1 = confusion_matrix(y_test_hg_part1, y_pred_svm_hg_part1)\n",
    "svm_cf_hg_part2 = confusion_matrix(y_test_hg_part2, y_pred_svm_hg_part2)\n",
    "svm_cf_hg_part3 = confusion_matrix(y_test_hg_part3, y_pred_svm_hg_part3)\n",
    "\n",
    "#Random Forests (RF)\n",
    "rf_cf_hg_part1 = confusion_matrix(y_test_hg_part1, y_pred_rf_hg_part1)\n",
    "rf_cf_hg_part2 = confusion_matrix(y_test_hg_part2, y_pred_rf_hg_part2)\n",
    "rf_cf_hg_part3 = confusion_matrix(y_test_hg_part3, y_pred_rf_hg_part3)"
   ]
  },
  {
   "cell_type": "markdown",
   "id": "0aa6bdbb",
   "metadata": {},
   "source": [
    "### 9.2.7 Specificity"
   ]
  },
  {
   "cell_type": "code",
   "execution_count": 145,
   "id": "00a91fff",
   "metadata": {},
   "outputs": [],
   "source": [
    "###Calculating true negatives, false positives, false negatives and true positives \n",
    "###from confusion matrix for Specificity\n",
    "\n",
    "##No feature extraction or description i.e., Raw Pixel Approach\n",
    "#Support Vector Machine (SVM)\n",
    "svm_tn_part1, svm_fp_part1, svm_fn_part1, svm_tp_part1 = svm_cf_part1.ravel()\n",
    "svm_tn_part2, svm_fp_part2, svm_fn_part2, svm_tp_part2 = svm_cf_part2.ravel()\n",
    "svm_tn_part3, svm_fp_part3, svm_fn_part3, svm_tp_part3 = svm_cf_part3.ravel()\n",
    "\n",
    "#Random Forests (RF)\n",
    "rf_tn_part1, rf_fp_part1, rf_fn_part1, rf_tp_part1 = rf_cf_part1.ravel()\n",
    "rf_tn_part2, rf_fp_part2, rf_fn_part2, rf_tp_part2 = rf_cf_part2.ravel()\n",
    "rf_tn_part3, rf_fp_part3, rf_fn_part3, rf_tp_part3 = rf_cf_part3.ravel()\n",
    "\n",
    "\n",
    "##Harris Corner\n",
    "#Support Vector Machine (SVM)\n",
    "svm_tn_hc_part1, svm_fp_hc_part1, svm_fn_hc_part1, svm_tp_hc_part1 = svm_cf_hc_part1.ravel()\n",
    "svm_tn_hc_part2, svm_fp_hc_part2, svm_fn_hc_part2, svm_tp_hc_part2 = svm_cf_hc_part2.ravel()\n",
    "svm_tn_hc_part3, svm_fp_hc_part3, svm_fn_hc_part3, svm_tp_hc_part3 = svm_cf_hc_part3.ravel()\n",
    "\n",
    "#Random Forests (RF)\n",
    "rf_tn_hc_part1, rf_fp_hc_part1, rf_fn_hc_part1, rf_tp_hc_part1 = rf_cf_hc_part1.ravel()\n",
    "rf_tn_hc_part2, rf_fp_hc_part2, rf_fn_hc_part2, rf_tp_hc_part2 = rf_cf_hc_part2.ravel()\n",
    "rf_tn_hc_part3, rf_fp_hc_part3, rf_fn_hc_part3, rf_tp_hc_part3 = rf_cf_hc_part3.ravel()\n",
    "\n",
    "\n",
    "##Histogram of Oriented Gradients (HOG)\n",
    "#Support Vector Machine (SVM)\n",
    "svm_tn_hg_part1, svm_fp_hg_part1, svm_fn_hg_part1, svm_tp_hg_part1 = svm_cf_hg_part1.ravel()\n",
    "svm_tn_hg_part2, svm_fp_hg_part2, svm_fn_hg_part2, svm_tp_hg_part2 = svm_cf_hg_part2.ravel()\n",
    "svm_tn_hg_part3, svm_fp_hg_part3, svm_fn_hg_part3, svm_tp_hg_part3 = svm_cf_hg_part3.ravel()\n",
    "\n",
    "#Random Forests (RF)\n",
    "rf_tn_hg_part1, rf_fp_hg_part1, rf_fn_hg_part1, rf_tp_hg_part1 = rf_cf_hg_part1.ravel()\n",
    "rf_tn_hg_part2, rf_fp_hg_part2, rf_fn_hg_part2, rf_tp_hg_part2 = rf_cf_hg_part2.ravel()\n",
    "rf_tn_hg_part3, rf_fp_hg_part3, rf_fn_hg_part3, rf_tp_hg_part3 = rf_cf_hg_part3.ravel()"
   ]
  },
  {
   "cell_type": "code",
   "execution_count": 146,
   "id": "a59b92d8",
   "metadata": {},
   "outputs": [],
   "source": [
    "##No feature extraction or description i.e., Raw Pixel Approach\n",
    "#Support Vector Machine (SVM)\n",
    "svm_spc_part1 = svm_tn_part1/(svm_tn_part1+svm_fp_part1)\n",
    "svm_spc_part2 = svm_tn_part2/(svm_tn_part2+svm_fp_part2)\n",
    "svm_spc_part3 = svm_tn_part3/(svm_tn_part3+svm_fp_part3)\n",
    "\n",
    "#Random Forests (RF)\n",
    "rf_spc_part1 = rf_tn_part1/(rf_tn_part1+rf_fp_part1)\n",
    "rf_spc_part2 = rf_tn_part2/(rf_tn_part2+rf_fp_part2)\n",
    "rf_spc_part3 = rf_tn_part3/(rf_tn_part3+rf_fp_part3)\n",
    "\n",
    "\n",
    "##Harris Corner\n",
    "#Support Vector Machine (SVM)\n",
    "svm_spc_hc_part1 = svm_tn_hc_part1/(svm_tn_hc_part1+svm_fp_hc_part1)\n",
    "svm_spc_hc_part2 = svm_tn_hc_part2/(svm_tn_hc_part2+svm_fp_hc_part2)\n",
    "svm_spc_hc_part3 = svm_tn_hc_part3/(svm_tn_hc_part3+svm_fp_hc_part3)\n",
    "\n",
    "#Random Forests (RF)\n",
    "rf_spc_hc_part1 = rf_tn_hc_part1/(rf_tn_hc_part1+rf_fp_hc_part1)\n",
    "rf_spc_hc_part2 = rf_tn_hc_part2/(rf_tn_hc_part2+rf_fp_hc_part2)\n",
    "rf_spc_hc_part3 = rf_tn_hc_part3/(rf_tn_hc_part3+rf_fp_hc_part3)\n",
    "\n",
    "\n",
    "##Histogram of Oriented Gradients (HOG)\n",
    "#Support Vector Machine (SVM)\n",
    "svm_spc_hg_part1 = svm_tn_hg_part1/(svm_tn_hg_part1+svm_fp_hg_part1)\n",
    "svm_spc_hg_part2 = svm_tn_hg_part2/(svm_tn_hg_part2+svm_fp_hg_part2)\n",
    "svm_spc_hg_part3 = svm_tn_hg_part3/(svm_tn_hg_part3+svm_fp_hg_part3)\n",
    "\n",
    "#Random Forests (RF)\n",
    "rf_spc_hg_part1 = rf_tn_hg_part1/(rf_tn_hg_part1+rf_fp_hg_part1)\n",
    "rf_spc_hg_part2 = rf_tn_hg_part2/(rf_tn_hg_part2+rf_fp_hg_part2)\n",
    "rf_spc_hg_part3 = rf_tn_hg_part3/(rf_tn_hg_part3+rf_fp_hg_part3)"
   ]
  },
  {
   "cell_type": "markdown",
   "id": "7ed622a4",
   "metadata": {},
   "source": [
    "## 9.3 Displaying the results for various metrics"
   ]
  },
  {
   "cell_type": "markdown",
   "id": "5bb7ebda",
   "metadata": {},
   "source": [
    "## 9.3.1 Calculating average/mean for the metrics for 3 datasets"
   ]
  },
  {
   "cell_type": "code",
   "execution_count": 147,
   "id": "7dd1ee8f",
   "metadata": {},
   "outputs": [],
   "source": [
    "##No feature extraction or description i.e., Raw Pixel Approach\n",
    "#Accuracy\n",
    "svm_acc_avg = stat.mean([svm_acc_part1, svm_acc_part2, svm_acc_part3])\n",
    "rf_acc_avg = stat.mean([rf_acc_part1, rf_acc_part2, rf_acc_part3])\n",
    "\n",
    "#Precision\n",
    "svm_prs_avg = stat.mean([svm_prs_part1, svm_prs_part2, svm_prs_part3])\n",
    "rf_prs_avg = stat.mean([rf_prs_part1, rf_prs_part2, rf_prs_part3])\n",
    "\n",
    "#F1-Score\n",
    "svm_f1_avg = stat.mean([svm_f1_part1, svm_f1_part2, svm_f1_part3])\n",
    "rf_f1_avg = stat.mean([rf_f1_part1, rf_f1_part2, rf_f1_part3])\n",
    "\n",
    "#Recall\n",
    "svm_rc_avg = stat.mean([svm_rc_part1, svm_rc_part2, svm_rc_part3])\n",
    "rf_rc_avg = stat.mean([rf_rc_part1, rf_rc_part2, rf_rc_part3])\n",
    "\n",
    "#ROC_AUC\n",
    "svm_roc_avg = stat.mean([svm_roc_part1, svm_roc_part2, svm_roc_part3])\n",
    "rf_roc_avg = stat.mean([rf_roc_part1, rf_roc_part2, rf_roc_part3])\n",
    "\n",
    "#Specificity\n",
    "svm_spc_avg = stat.mean([svm_spc_part1, svm_spc_part2, svm_spc_part3])\n",
    "rf_spc_avg = stat.mean([rf_spc_part1, rf_spc_part2, rf_spc_part3])\n",
    "\n",
    "#Training time\n",
    "svm_trt_avg = stat.mean([svm_time_part1, svm_time_part2, svm_time_part3])\n",
    "rf_trt_avg = stat.mean([rf_time_part1, rf_time_part2, rf_time_part3])"
   ]
  },
  {
   "cell_type": "code",
   "execution_count": 148,
   "id": "4fd1c429",
   "metadata": {},
   "outputs": [],
   "source": [
    "##Harris Corner\n",
    "#Accuracy\n",
    "svm_acc_hc_avg = stat.mean([svm_acc_hc_part1, svm_acc_hc_part2, svm_acc_hc_part3])\n",
    "rf_acc_hc_avg = stat.mean([rf_acc_hc_part1, rf_acc_hc_part2, rf_acc_hc_part3])\n",
    "\n",
    "#Precision\n",
    "svm_prs_hc_avg = stat.mean([svm_prs_hc_part1, svm_prs_hc_part2, svm_prs_hc_part3])\n",
    "rf_prs_hc_avg = stat.mean([rf_prs_hc_part1, rf_prs_hc_part2, rf_prs_hc_part3])\n",
    "\n",
    "#F1-Score\n",
    "svm_f1_hc_avg = stat.mean([svm_f1_hc_part1, svm_f1_hc_part2, svm_f1_hc_part3])\n",
    "rf_f1_hc_avg = stat.mean([rf_f1_hc_part1, rf_f1_hc_part2, rf_f1_hc_part3])\n",
    "\n",
    "#Recall\n",
    "svm_rc_hc_avg = stat.mean([svm_rc_hc_part1, svm_rc_hc_part2, svm_rc_hc_part3])\n",
    "rf_rc_hc_avg = stat.mean([rf_rc_hc_part1, rf_rc_hc_part2, rf_rc_hc_part3])\n",
    "\n",
    "#ROC_AUC\n",
    "svm_roc_hc_avg = stat.mean([svm_roc_hc_part1, svm_roc_hc_part2, svm_roc_hc_part3])\n",
    "rf_roc_hc_avg = stat.mean([rf_roc_hc_part1, rf_roc_hc_part2, rf_roc_hc_part3])\n",
    "\n",
    "#Specificity\n",
    "svm_spc_hc_avg = stat.mean([svm_spc_hc_part1, svm_spc_hc_part2, svm_spc_hc_part3])\n",
    "rf_spc_hc_avg = stat.mean([rf_spc_hc_part1, rf_spc_hc_part2, rf_spc_hc_part3])\n",
    "\n",
    "#Training time\n",
    "svm_trt_hc_avg = stat.mean([svm_time_hc_part1, svm_time_hc_part2, svm_time_hc_part3])\n",
    "rf_trt_hc_avg = stat.mean([rf_time_hc_part1, rf_time_hc_part2, rf_time_hc_part3])"
   ]
  },
  {
   "cell_type": "code",
   "execution_count": 149,
   "id": "9836c715",
   "metadata": {},
   "outputs": [],
   "source": [
    "##Histogram of Oriented Gradients (HOG)\n",
    "#Accuracy\n",
    "svm_acc_hg_avg = stat.mean([svm_acc_hg_part1, svm_acc_hg_part2, svm_acc_hg_part3])\n",
    "rf_acc_hg_avg = stat.mean([rf_acc_hg_part1, rf_acc_hg_part2, rf_acc_hg_part3])\n",
    "\n",
    "#Precision\n",
    "svm_prs_hg_avg = stat.mean([svm_prs_hg_part1, svm_prs_hg_part2, svm_prs_hg_part3])\n",
    "rf_prs_hg_avg = stat.mean([rf_prs_hg_part1, rf_prs_hg_part2, rf_prs_hg_part3])\n",
    "\n",
    "#F1-Score\n",
    "svm_f1_hg_avg = stat.mean([svm_f1_hg_part1, svm_f1_hg_part2, svm_f1_hg_part3])\n",
    "rf_f1_hg_avg = stat.mean([rf_f1_hg_part1, rf_f1_hg_part2, rf_f1_hg_part3])\n",
    "\n",
    "#Recall\n",
    "svm_rc_hg_avg = stat.mean([svm_rc_hg_part1, svm_rc_hg_part2, svm_rc_hg_part3])\n",
    "rf_rc_hg_avg = stat.mean([rf_rc_hg_part1, rf_rc_hg_part2, rf_rc_hg_part3])\n",
    "\n",
    "#ROC_AUC\n",
    "svm_roc_hg_avg = stat.mean([svm_roc_hg_part1, svm_roc_hg_part2, svm_roc_hg_part3])\n",
    "rf_roc_hg_avg = stat.mean([rf_roc_hg_part1, rf_roc_hg_part2, rf_roc_hg_part3])\n",
    "\n",
    "#Specificity\n",
    "svm_spc_hg_avg = stat.mean([svm_spc_hg_part1, svm_spc_hg_part2, svm_spc_hg_part3])\n",
    "rf_spc_hg_avg = stat.mean([rf_spc_hg_part1, rf_spc_hg_part2, rf_spc_hg_part3])\n",
    "\n",
    "#Training time\n",
    "svm_trt_hg_avg = stat.mean([svm_time_hg_part1, svm_time_hg_part2, svm_time_hg_part3])\n",
    "rf_trt_hg_avg = stat.mean([rf_time_hg_part1, rf_time_hg_part2, rf_time_hg_part3])"
   ]
  },
  {
   "cell_type": "markdown",
   "id": "6da2a61f",
   "metadata": {},
   "source": [
    "## 9.3.2 Pulling the averages in a dataframe"
   ]
  },
  {
   "cell_type": "code",
   "execution_count": 155,
   "id": "e2bfed23",
   "metadata": {},
   "outputs": [],
   "source": [
    "#creating list to store results for each type of approach\n",
    "svm_results = [svm_acc_avg, svm_prs_avg, svm_f1_avg, svm_rc_avg, svm_roc_avg, svm_spc_avg, svm_trt_avg]\n",
    "rf_results = [rf_acc_avg, rf_prs_avg, rf_f1_avg, rf_rc_avg, rf_roc_avg, rf_spc_avg, rf_trt_avg]\n",
    "\n",
    "svm_hc_results = [svm_acc_hc_avg, svm_prs_hc_avg, svm_f1_hc_avg, svm_rc_hc_avg, svm_roc_hc_avg, svm_spc_hc_avg, svm_trt_hc_avg]\n",
    "rf_hc_results = [rf_acc_hc_avg, rf_prs_hc_avg, rf_f1_hc_avg, rf_rc_hc_avg, rf_roc_hc_avg, rf_spc_hc_avg, rf_trt_hc_avg]\n",
    "\n",
    "svm_hg_results = [svm_acc_hg_avg, svm_prs_hg_avg, svm_f1_hg_avg, svm_rc_hg_avg, svm_roc_hg_avg, svm_spc_hg_avg, svm_trt_hg_avg]\n",
    "rf_hg_results = [rf_acc_hg_avg, rf_prs_hg_avg, rf_f1_hg_avg, rf_rc_hg_avg, rf_roc_hg_avg, rf_spc_hg_avg, rf_trt_hg_avg]"
   ]
  },
  {
   "cell_type": "code",
   "execution_count": 156,
   "id": "a8bfaf63",
   "metadata": {},
   "outputs": [],
   "source": [
    "#creating the index and column header\n",
    "model_index = ['SVM', 'RF', 'SVM+Harris', 'RF+Harris', 'SVM+HOG', 'RF+HOG']\n",
    "metrics_header = ['Accuracy', 'Precision', 'F1-Score', 'Recall', 'ROC_AUC', 'Specificity', 'Train_Time_in_Secs']"
   ]
  },
  {
   "cell_type": "code",
   "execution_count": 157,
   "id": "be49b8b1",
   "metadata": {},
   "outputs": [],
   "source": [
    "#creating dataframe with results\n",
    "model_results_df = pd.DataFrame([svm_results, rf_results, \n",
    "                                      svm_hc_results, rf_hc_results, \n",
    "                                      svm_hg_results, rf_hg_results],\n",
    "                                columns=metrics_header,\n",
    "                                index=model_index)"
   ]
  },
  {
   "cell_type": "code",
   "execution_count": 158,
   "id": "7739e4d0",
   "metadata": {},
   "outputs": [
    {
     "data": {
      "text/html": [
       "<div>\n",
       "<style scoped>\n",
       "    .dataframe tbody tr th:only-of-type {\n",
       "        vertical-align: middle;\n",
       "    }\n",
       "\n",
       "    .dataframe tbody tr th {\n",
       "        vertical-align: top;\n",
       "    }\n",
       "\n",
       "    .dataframe thead th {\n",
       "        text-align: right;\n",
       "    }\n",
       "</style>\n",
       "<table border=\"1\" class=\"dataframe\">\n",
       "  <thead>\n",
       "    <tr style=\"text-align: right;\">\n",
       "      <th></th>\n",
       "      <th>Accuracy</th>\n",
       "      <th>Precision</th>\n",
       "      <th>F1-Score</th>\n",
       "      <th>Recall</th>\n",
       "      <th>ROC_AUC</th>\n",
       "      <th>Specificity</th>\n",
       "      <th>Train_Time_in_Secs</th>\n",
       "    </tr>\n",
       "  </thead>\n",
       "  <tbody>\n",
       "    <tr>\n",
       "      <th>SVM</th>\n",
       "      <td>0.909238</td>\n",
       "      <td>0.923207</td>\n",
       "      <td>0.909168</td>\n",
       "      <td>0.895634</td>\n",
       "      <td>0.963231</td>\n",
       "      <td>0.923246</td>\n",
       "      <td>44.333333</td>\n",
       "    </tr>\n",
       "    <tr>\n",
       "      <th>RF</th>\n",
       "      <td>0.923825</td>\n",
       "      <td>0.925459</td>\n",
       "      <td>0.924900</td>\n",
       "      <td>0.924388</td>\n",
       "      <td>0.977098</td>\n",
       "      <td>0.923246</td>\n",
       "      <td>6.000000</td>\n",
       "    </tr>\n",
       "    <tr>\n",
       "      <th>SVM+Harris</th>\n",
       "      <td>0.629390</td>\n",
       "      <td>0.917733</td>\n",
       "      <td>0.447672</td>\n",
       "      <td>0.296060</td>\n",
       "      <td>0.757157</td>\n",
       "      <td>0.972588</td>\n",
       "      <td>29.333333</td>\n",
       "    </tr>\n",
       "    <tr>\n",
       "      <th>RF+Harris</th>\n",
       "      <td>0.848190</td>\n",
       "      <td>0.854638</td>\n",
       "      <td>0.849525</td>\n",
       "      <td>0.844515</td>\n",
       "      <td>0.926905</td>\n",
       "      <td>0.851974</td>\n",
       "      <td>5.666667</td>\n",
       "    </tr>\n",
       "    <tr>\n",
       "      <th>SVM+HOG</th>\n",
       "      <td>0.949757</td>\n",
       "      <td>0.948249</td>\n",
       "      <td>0.950617</td>\n",
       "      <td>0.953142</td>\n",
       "      <td>0.986576</td>\n",
       "      <td>0.946272</td>\n",
       "      <td>7.666667</td>\n",
       "    </tr>\n",
       "    <tr>\n",
       "      <th>RF+HOG</th>\n",
       "      <td>0.909238</td>\n",
       "      <td>0.897825</td>\n",
       "      <td>0.911935</td>\n",
       "      <td>0.926518</td>\n",
       "      <td>0.974049</td>\n",
       "      <td>0.891447</td>\n",
       "      <td>3.000000</td>\n",
       "    </tr>\n",
       "  </tbody>\n",
       "</table>\n",
       "</div>"
      ],
      "text/plain": [
       "            Accuracy  Precision  F1-Score    Recall   ROC_AUC  Specificity  \\\n",
       "SVM         0.909238   0.923207  0.909168  0.895634  0.963231     0.923246   \n",
       "RF          0.923825   0.925459  0.924900  0.924388  0.977098     0.923246   \n",
       "SVM+Harris  0.629390   0.917733  0.447672  0.296060  0.757157     0.972588   \n",
       "RF+Harris   0.848190   0.854638  0.849525  0.844515  0.926905     0.851974   \n",
       "SVM+HOG     0.949757   0.948249  0.950617  0.953142  0.986576     0.946272   \n",
       "RF+HOG      0.909238   0.897825  0.911935  0.926518  0.974049     0.891447   \n",
       "\n",
       "            Train_Time_in_Secs  \n",
       "SVM                  44.333333  \n",
       "RF                    6.000000  \n",
       "SVM+Harris           29.333333  \n",
       "RF+Harris             5.666667  \n",
       "SVM+HOG               7.666667  \n",
       "RF+HOG                3.000000  "
      ]
     },
     "execution_count": 158,
     "metadata": {},
     "output_type": "execute_result"
    }
   ],
   "source": [
    "#displaying the results\n",
    "model_results_df"
   ]
  },
  {
   "cell_type": "code",
   "execution_count": 159,
   "id": "524cf048",
   "metadata": {
    "scrolled": false
   },
   "outputs": [
    {
     "data": {
      "text/plain": [
       "array([<AxesSubplot:xlabel='Name of the models'>,\n",
       "       <AxesSubplot:xlabel='Name of the models'>,\n",
       "       <AxesSubplot:xlabel='Name of the models'>,\n",
       "       <AxesSubplot:xlabel='Name of the models'>,\n",
       "       <AxesSubplot:xlabel='Name of the models'>,\n",
       "       <AxesSubplot:xlabel='Name of the models'>,\n",
       "       <AxesSubplot:xlabel='Name of the models'>], dtype=object)"
      ]
     },
     "execution_count": 159,
     "metadata": {},
     "output_type": "execute_result"
    },
    {
     "data": {
      "image/png": "[encoded data removed]",
      "text/plain": [
       "<Figure size 1008x864 with 7 Axes>"
      ]
     },
     "metadata": {
      "needs_background": "light"
     },
     "output_type": "display_data"
    }
   ],
   "source": [
    "#plotting the results on a graph\n",
    "model_results_df.plot(rot=0, style=['x-','s--','o-.','v:','8-','s-.', 'P--'], title='Performance Comparison', subplots=True, figsize=(14, 12), xlabel='Name of the models')"
   ]
  },
  {
   "cell_type": "markdown",
   "id": "b43dfaac",
   "metadata": {},
   "source": [
    "# 10. Exporting the selected model"
   ]
  },
  {
   "cell_type": "code",
   "execution_count": 160,
   "id": "8b7a6b85",
   "metadata": {},
   "outputs": [],
   "source": [
    "#creating list to store results for each dataset for SVM+HOG approach\n",
    "svm_results_part1 = [svm_acc_hg_part1, svm_prs_hg_part1, svm_f1_hg_part1, svm_rc_hg_part1, svm_roc_hg_part1, svm_spc_hg_part1, svm_time_hg_part1]\n",
    "svm_results_part2 = [svm_acc_hg_part2, svm_prs_hg_part2, svm_f1_hg_part2, svm_rc_hg_part2, svm_roc_hg_part2, svm_spc_hg_part2, svm_time_hg_part2]\n",
    "svm_results_part3 = [svm_acc_hg_part3, svm_prs_hg_part3, svm_f1_hg_part3, svm_rc_hg_part3, svm_roc_hg_part3, svm_spc_hg_part3, svm_time_hg_part3]"
   ]
  },
  {
   "cell_type": "code",
   "execution_count": 161,
   "id": "d4b0c5a6",
   "metadata": {},
   "outputs": [],
   "source": [
    "#creating the index and column header\n",
    "part_index = ['SVM+HOG Part1', 'SVM+HOG Part2', 'SVM+HOG Part3']"
   ]
  },
  {
   "cell_type": "code",
   "execution_count": 162,
   "id": "331d1cdd",
   "metadata": {},
   "outputs": [],
   "source": [
    "#choosing the best SVM+HOG model\n",
    "svm_hg_results_df = pd.DataFrame([svm_results_part1, svm_results_part2, svm_results_part3],\n",
    "                                columns=metrics_header,\n",
    "                                index=part_index)"
   ]
  },
  {
   "cell_type": "code",
   "execution_count": 163,
   "id": "4256458d",
   "metadata": {},
   "outputs": [
    {
     "data": {
      "text/html": [
       "<div>\n",
       "<style scoped>\n",
       "    .dataframe tbody tr th:only-of-type {\n",
       "        vertical-align: middle;\n",
       "    }\n",
       "\n",
       "    .dataframe tbody tr th {\n",
       "        vertical-align: top;\n",
       "    }\n",
       "\n",
       "    .dataframe thead th {\n",
       "        text-align: right;\n",
       "    }\n",
       "</style>\n",
       "<table border=\"1\" class=\"dataframe\">\n",
       "  <thead>\n",
       "    <tr style=\"text-align: right;\">\n",
       "      <th></th>\n",
       "      <th>Accuracy</th>\n",
       "      <th>Precision</th>\n",
       "      <th>F1-Score</th>\n",
       "      <th>Recall</th>\n",
       "      <th>ROC_AUC</th>\n",
       "      <th>Specificity</th>\n",
       "      <th>Train_Time_in_Secs</th>\n",
       "    </tr>\n",
       "  </thead>\n",
       "  <tbody>\n",
       "    <tr>\n",
       "      <th>SVM+HOG Part1</th>\n",
       "      <td>0.949757</td>\n",
       "      <td>0.943396</td>\n",
       "      <td>0.950872</td>\n",
       "      <td>0.958466</td>\n",
       "      <td>0.983868</td>\n",
       "      <td>0.940789</td>\n",
       "      <td>8</td>\n",
       "    </tr>\n",
       "    <tr>\n",
       "      <th>SVM+HOG Part2</th>\n",
       "      <td>0.951378</td>\n",
       "      <td>0.960912</td>\n",
       "      <td>0.951613</td>\n",
       "      <td>0.942492</td>\n",
       "      <td>0.988103</td>\n",
       "      <td>0.960526</td>\n",
       "      <td>8</td>\n",
       "    </tr>\n",
       "    <tr>\n",
       "      <th>SVM+HOG Part3</th>\n",
       "      <td>0.948136</td>\n",
       "      <td>0.940439</td>\n",
       "      <td>0.949367</td>\n",
       "      <td>0.958466</td>\n",
       "      <td>0.987756</td>\n",
       "      <td>0.937500</td>\n",
       "      <td>7</td>\n",
       "    </tr>\n",
       "  </tbody>\n",
       "</table>\n",
       "</div>"
      ],
      "text/plain": [
       "               Accuracy  Precision  F1-Score    Recall   ROC_AUC  Specificity  \\\n",
       "SVM+HOG Part1  0.949757   0.943396  0.950872  0.958466  0.983868     0.940789   \n",
       "SVM+HOG Part2  0.951378   0.960912  0.951613  0.942492  0.988103     0.960526   \n",
       "SVM+HOG Part3  0.948136   0.940439  0.949367  0.958466  0.987756     0.937500   \n",
       "\n",
       "               Train_Time_in_Secs  \n",
       "SVM+HOG Part1                   8  \n",
       "SVM+HOG Part2                   8  \n",
       "SVM+HOG Part3                   7  "
      ]
     },
     "execution_count": 163,
     "metadata": {},
     "output_type": "execute_result"
    }
   ],
   "source": [
    "#displaying the results\n",
    "svm_hg_results_df"
   ]
  },
  {
   "cell_type": "code",
   "execution_count": 164,
   "id": "2fcfd843",
   "metadata": {},
   "outputs": [
    {
     "data": {
      "text/plain": [
       "array([[<AxesSubplot:xlabel='Name of the models'>,\n",
       "        <AxesSubplot:xlabel='Name of the models'>,\n",
       "        <AxesSubplot:xlabel='Name of the models'>],\n",
       "       [<AxesSubplot:xlabel='Name of the models'>,\n",
       "        <AxesSubplot:xlabel='Name of the models'>,\n",
       "        <AxesSubplot:xlabel='Name of the models'>],\n",
       "       [<AxesSubplot:xlabel='Name of the models'>,\n",
       "        <AxesSubplot:xlabel='Name of the models'>,\n",
       "        <AxesSubplot:xlabel='Name of the models'>]], dtype=object)"
      ]
     },
     "execution_count": 164,
     "metadata": {},
     "output_type": "execute_result"
    },
    {
     "data": {
      "image/png": "[encoded data removed]",
      "text/plain": [
       "<Figure size 1296x576 with 9 Axes>"
      ]
     },
     "metadata": {
      "needs_background": "light"
     },
     "output_type": "display_data"
    }
   ],
   "source": [
    "#plotting the results on a graph\n",
    "svm_hg_results_df.plot(rot=0, style=['x-','s--','o-.','v:','8-','s-.', 'P--'], title='Performance Comparison', subplots=True, figsize=(18, 8), xlabel='Name of the models', layout=(3,3))"
   ]
  },
  {
   "cell_type": "code",
   "execution_count": 172,
   "id": "1eb50575",
   "metadata": {},
   "outputs": [
    {
     "data": {
      "image/png": "[encoded data removed]",
      "text/plain": [
       "<Figure size 360x360 with 2 Axes>"
      ]
     },
     "metadata": {
      "needs_background": "light"
     },
     "output_type": "display_data"
    }
   ],
   "source": [
    "#plotting confusion matrix for the chosen model\n",
    "selected_model = svm_cf_hg_part2\n",
    "\n",
    "plt.figure(figsize=(5,5))\n",
    "plt.imshow(selected_model, interpolation='nearest', cmap='Pastel1')\n",
    "plt.title('Confusion matrix', size = 18)\n",
    "plt.colorbar()\n",
    "tick_marks = np.arange(2)\n",
    "plt.xticks(tick_marks, [\"0\", \"1\"], rotation=45, size = 2)\n",
    "plt.yticks(tick_marks, [\"0\", \"1\"], size = 2)\n",
    "plt.tight_layout()\n",
    "plt.ylabel('Actual label', size = 12)\n",
    "plt.xlabel('Predicted label', size = 12)\n",
    "width, height = selected_model.shape\n",
    "for x in range(width):\n",
    "    for y in range(height):\n",
    "        plt.annotate(str(selected_model[x][y]), xy=(y, x), \n",
    "        horizontalalignment='center',\n",
    "        verticalalignment='center')"
   ]
  },
  {
   "cell_type": "code",
   "execution_count": 166,
   "id": "e468dab8",
   "metadata": {},
   "outputs": [],
   "source": [
    "#exporting the model file\n",
    "model_file_name = 'model_SVM_HOG.sav'\n",
    "pickle.dump(svm_model_hg_part2, open(model_file_name, 'wb'))"
   ]
  },
  {
   "cell_type": "code",
   "execution_count": 167,
   "id": "06cdab7f",
   "metadata": {},
   "outputs": [],
   "source": [
    "#loading the model file\n",
    "with open(model_file_name, 'rb') as file:  \n",
    "    svm_hog_model = pickle.load(file)"
   ]
  },
  {
   "cell_type": "code",
   "execution_count": 168,
   "id": "9a3cf19d",
   "metadata": {},
   "outputs": [
    {
     "name": "stdout",
     "output_type": "stream",
     "text": [
      "0.9448946515397083\n",
      "0.9416531604538088\n"
     ]
    }
   ],
   "source": [
    "#getting the model to predict\n",
    "#against dataset 1\n",
    "print(svm_hog_model.score(X_test_hg_part1, y_test_hg_part1))\n",
    "#against dataset 3\n",
    "print(svm_hog_model.score(X_test_hg_part3, y_test_hg_part3))"
   ]
  }
 ],
 "metadata": {
  "kernelspec": {
   "display_name": "Python 3",
   "language": "python",
   "name": "python3"
  },
  "language_info": {
   "codemirror_mode": {
    "name": "ipython",
    "version": 3
   },
   "file_extension": ".py",
   "mimetype": "text/x-python",
   "name": "python",
   "nbconvert_exporter": "python",
   "pygments_lexer": "ipython3",
   "version": "3.8.11"
  }
 },
 "nbformat": 4,
 "nbformat_minor": 5
}
